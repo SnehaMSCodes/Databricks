{
  "nbformat": 4,
  "nbformat_minor": 0,
  "metadata": {
    "colab": {
      "provenance": []
    },
    "kernelspec": {
      "name": "python3",
      "display_name": "Python 3"
    },
    "language_info": {
      "name": "python"
    }
  },
  "cells": [
    {
      "cell_type": "markdown",
      "source": [
        "# Q1. De-identification:"
      ],
      "metadata": {
        "id": "Af2o6nPdPsgD"
      }
    },
    {
      "cell_type": "code",
      "source": [
        "from pyspark.sql import SparkSession\n",
        "from pyspark.sql.functions import monotonically_increasing_id, concat, lit, lpad, col, countDistinct, datediff , mean , row_number, first, to_date"
      ],
      "metadata": {
        "id": "abMMpKWPQiQC"
      },
      "execution_count": 41,
      "outputs": []
    },
    {
      "cell_type": "code",
      "source": [
        "# Step 1: Start Spark session\n",
        "spark = SparkSession.builder \\\n",
        "    .appName(\"DeIdentification\") \\\n",
        "    .getOrCreate()"
      ],
      "metadata": {
        "id": "dTSk9BmNVSLh"
      },
      "execution_count": null,
      "outputs": []
    },
    {
      "cell_type": "code",
      "execution_count": 15,
      "metadata": {
        "colab": {
          "base_uri": "https://localhost:8080/",
          "height": 0
        },
        "id": "dxLjEX5RNskk",
        "outputId": "f5273d09-0a67-45bf-876c-5264f779b0aa"
      },
      "outputs": [
        {
          "output_type": "stream",
          "name": "stdout",
          "text": [
            "First 10 rows of q1b:\n",
            "+-----+------+\n",
            "|ID   |DE_ID |\n",
            "+-----+------+\n",
            "|20158|DE0001|\n",
            "|28135|DE0002|\n",
            "|38223|DE0003|\n",
            "|45300|DE0004|\n",
            "|59169|DE0005|\n",
            "|82993|DE0006|\n",
            "|8306 |DE0007|\n",
            "|27966|DE0008|\n",
            "|41256|DE0009|\n",
            "|52364|DE0010|\n",
            "+-----+------+\n",
            "only showing top 10 rows\n",
            "\n",
            "Are all DE_IDs unique?: True\n",
            "Admissions Surgical (De-identified):\n",
            "+--------------+--------------+--------------+--------------+---------------+------+----+--------------------+----------------------------------------+------+\n",
            "|ADMISSION.DATE|ADMISSION.TIME|DISCHARGE.DATE|DISCHARGE.TIME|DEPARTMENT     |GENDER|AGE |MAIN.DIAGNOSIS.ICD10|MAIN.DIAGNOSIS.NAME                     |DE_ID |\n",
            "+--------------+--------------+--------------+--------------+---------------+------+----+--------------------+----------------------------------------+------+\n",
            "|1998-02-01    |07:02         |1998-03-31    |07:17         |General Surgery|M     |NULL|E0800               |Diabetes mellitus with complications    |DE0609|\n",
            "|2010-11-30    |04:33         |2011-03-25    |20:59         |General Surgery|F     |24  |M0500               |Rheumatoid arthritis and related disease|DE1144|\n",
            "|2015-03-05    |09:40         |2015-08-28    |04:51         |General Surgery|M     |92  |O045                |Induced abortion                        |DE0755|\n",
            "|1987-11-07    |21:37         |1988-05-10    |15:32         |General Surgery|F     |93  |A6000               |Viral infection                         |DE0725|\n",
            "|1997-07-03    |03:44         |1997-12-27    |03:45         |General Surgery|F     |75  |K640                |Hemorrhoids                             |DE1114|\n",
            "+--------------+--------------+--------------+--------------+---------------+------+----+--------------------+----------------------------------------+------+\n",
            "only showing top 5 rows\n",
            "\n",
            "Admissions Medical (De-identified):\n",
            "+--------------+--------------+--------------+--------------+-------------------------+------+----+--------------------+----------------------------------------------+------+\n",
            "|admission_date|admission_time|discharge_date|discharge_time|department               |gender|age |main_diagnosis_icd10|main_diagnosis_name                           |DE_ID |\n",
            "+--------------+--------------+--------------+--------------+-------------------------+------+----+--------------------+----------------------------------------------+------+\n",
            "|1985-10-19    |04:27         |1986-01-01    |NULL          |General Internal Medicine|M     |63  |N830                |Ovarian cyst                                  |DE1941|\n",
            "|1990-06-26    |21:06         |1990-09-03    |21:03         |General Internal Medicine|F     |63  |N410                |Inflammatory conditions of male genital organs|DE2287|\n",
            "|1994-06-13    |06:36         |1994-12-22    |07:21         |General Internal Medicine|F     |51  |K640                |Hemorrhoids                                   |DE1551|\n",
            "|2005-03-11    |21:54         |2005-04-19    |NULL          |General Internal Medicine|F     |NULL|C6200               |Cancer of testis                              |DE1959|\n",
            "|1997-06-26    |09:49         |1997-09-06    |21:03         |General Internal Medicine|M     |81  |I462                |Cardiac arrest and ventricular fibrillation   |DE2009|\n",
            "+--------------+--------------+--------------+--------------+-------------------------+------+----+--------------------+----------------------------------------------+------+\n",
            "only showing top 5 rows\n",
            "\n",
            "Imaging (De-identified):\n",
            "+--------------+-----------------+--------------+--------------+------------------+--------------------------+------+\n",
            "|test_name     |ordered_date_time|performed_date|performed_time|technician_name   |brief_report              |DE_ID |\n",
            "+--------------+-----------------+--------------+--------------+------------------+--------------------------+------+\n",
            "|US            |NA               |1985-12-17    |10:27         |Trevon Hopson     |No significant abnormality|DE1941|\n",
            "|US PELVIS     |NA               |1985-12-02    |11:40         |Claire Melko      |Indication: normal        |DE1941|\n",
            "|Abdomen CT    |NA               |1990-08-05    |12:26         |Ladonna Mcallister|Indication: Normal        |DE2287|\n",
            "|US            |NA               |1998-03-24    |16:15         |claire melko      |Indication: Normal        |DE0609|\n",
            "|CT neck + head|NA               |1994-11-05    |01:36         |Lorena Burciaga   |Normal                    |DE1551|\n",
            "+--------------+-----------------+--------------+--------------+------------------+--------------------------+------+\n",
            "only showing top 5 rows\n",
            "\n"
          ]
        }
      ],
      "source": [
        "# Step 2: Read CSV files\n",
        "admissions_surg = spark.read.option(\"header\", True).csv(\"admissions_surg.csv\")\n",
        "admissions_med = spark.read.option(\"header\", True).csv(\"admissions_med.csv\")\n",
        "imaging = spark.read.option(\"header\", True).csv(\"imaging.csv\")\n",
        "\n",
        "# Compile a list of values from the ID column from both admissions_surg and admissions_med.\n",
        "# Step 3a: Compile list of IDs from both admissions datasets\n",
        "all_ids_df = admissions_surg.select(\"ID\").union(admissions_med.select(\"ID\")).distinct()\n",
        "\n",
        "# Create a new object called q1b and assign a unique identifier called DE_ID for every ID\n",
        "# Step 3b: Create q1b with DE_ID\n",
        "q1b = all_ids_df.withColumn(\"row_num\", monotonically_increasing_id()) \\\n",
        "    .withColumn(\"DE_ID\", concat(lit(\"DE\"), lpad((col(\"row_num\") + 1).cast(\"string\"), 4, \"0\"))) \\\n",
        "    .drop(\"row_num\")\n",
        "\n",
        "print(\"First 10 rows of q1b:\")\n",
        "q1b.show(10, truncate=False)\n",
        "\n",
        "#Show that every row of DE_ID from q1b is unique\n",
        "# Step 3c: Check DE_ID uniqueness\n",
        "is_unique = q1b.select(countDistinct(\"DE_ID\")).first()[0] == q1b.count()\n",
        "print(\"Are all DE_IDs unique?:\", is_unique)\n",
        "\n",
        "# Step 3d: De-identify datasets by joining with q1b\n",
        "admissions_surg_deid = admissions_surg.join(q1b, on=\"ID\", how=\"left\").drop(\"ID\")\n",
        "admissions_med_deid = admissions_med.join(q1b, on=\"ID\", how=\"left\").drop(\"ID\")\n",
        "imaging_deid = imaging.join(q1b, on=\"ID\", how=\"left\").drop(\"ID\")\n",
        "\n",
        "print(\"Admissions Surgical (De-identified):\")\n",
        "admissions_surg_deid.show(5, truncate=False)\n",
        "\n",
        "print(\"Admissions Medical (De-identified):\")\n",
        "admissions_med_deid.show(5, truncate=False)\n",
        "\n",
        "print(\"Imaging (De-identified):\")\n",
        "imaging_deid.show(5, truncate=False)\n"
      ]
    },
    {
      "cell_type": "markdown",
      "source": [
        "# Q2. Create one data frame called admissions_img, consisting of all rows in admissions_surg and admissions_med, merged with the imaging data using DE_ID (retaining all DE_IDs from both)."
      ],
      "metadata": {
        "id": "KUjYBAUTQxw5"
      }
    },
    {
      "cell_type": "code",
      "source": [
        "admissions_med_deid.printSchema()\n",
        "admissions_surg_deid.printSchema()"
      ],
      "metadata": {
        "colab": {
          "base_uri": "https://localhost:8080/",
          "height": 0
        },
        "id": "LjQIxW7nRhwB",
        "outputId": "b2d34424-655c-4de6-8ab9-26589aa6b110"
      },
      "execution_count": 16,
      "outputs": [
        {
          "output_type": "stream",
          "name": "stdout",
          "text": [
            "root\n",
            " |-- admission_date: string (nullable = true)\n",
            " |-- admission_time: string (nullable = true)\n",
            " |-- discharge_date: string (nullable = true)\n",
            " |-- discharge_time: string (nullable = true)\n",
            " |-- department: string (nullable = true)\n",
            " |-- gender: string (nullable = true)\n",
            " |-- age: string (nullable = true)\n",
            " |-- main_diagnosis_icd10: string (nullable = true)\n",
            " |-- main_diagnosis_name: string (nullable = true)\n",
            " |-- DE_ID: string (nullable = true)\n",
            "\n",
            "root\n",
            " |-- ADMISSION.DATE: string (nullable = true)\n",
            " |-- ADMISSION.TIME: string (nullable = true)\n",
            " |-- DISCHARGE.DATE: string (nullable = true)\n",
            " |-- DISCHARGE.TIME: string (nullable = true)\n",
            " |-- DEPARTMENT: string (nullable = true)\n",
            " |-- GENDER: string (nullable = true)\n",
            " |-- AGE: string (nullable = true)\n",
            " |-- MAIN.DIAGNOSIS.ICD10: string (nullable = true)\n",
            " |-- MAIN.DIAGNOSIS.NAME: string (nullable = true)\n",
            " |-- DE_ID: string (nullable = true)\n",
            "\n"
          ]
        }
      ]
    },
    {
      "cell_type": "code",
      "source": [
        "print(admissions_med_deid.count())\n",
        "print(admissions_surg_deid.count())"
      ],
      "metadata": {
        "colab": {
          "base_uri": "https://localhost:8080/",
          "height": 0
        },
        "id": "NWRpyewZT7oz",
        "outputId": "b2ff09b6-e70b-46f4-ef91-2ac073aaf76f"
      },
      "execution_count": 19,
      "outputs": [
        {
          "output_type": "stream",
          "name": "stdout",
          "text": [
            "2305\n",
            "1195\n"
          ]
        }
      ]
    },
    {
      "cell_type": "code",
      "source": [
        "# Fix: Rename admission_med_deid to match column names\n",
        "admissions_surg_renamed = admissions_surg_deid.select(\n",
        "    col(\"`ADMISSION.DATE`\").alias(\"admission_date\"),\n",
        "    col(\"`ADMISSION.TIME`\").alias(\"admission_time\"),\n",
        "    col(\"`DISCHARGE.DATE`\").alias(\"discharge_date\"),\n",
        "    col(\"`DISCHARGE.TIME`\").alias(\"discharge_time\"),\n",
        "    col(\"DEPARTMENT\").alias(\"department\"),\n",
        "    col(\"GENDER\").alias(\"gender\"),\n",
        "    col(\"AGE\").alias(\"age\"),\n",
        "    col(\"`MAIN.DIAGNOSIS.ICD10`\").alias(\"main_diagnosis_icd10\"),\n",
        "    col(\"`MAIN.DIAGNOSIS.NAME`\").alias(\"main_diagnosis_name\"),\n",
        "    col(\"DE_ID\")\n",
        ")\n",
        "\n",
        "admissions_med_renamed = admissions_med_deid.select(\n",
        "    \"admission_date\",\n",
        "    \"admission_time\",\n",
        "    \"discharge_date\",\n",
        "    \"discharge_time\",\n",
        "    \"department\",\n",
        "    \"gender\",\n",
        "    \"age\",\n",
        "    \"main_diagnosis_icd10\",\n",
        "    \"main_diagnosis_name\",\n",
        "    \"DE_ID\"\n",
        ")\n",
        "\n",
        "# Union the admissions datasets (matching schemas)\n",
        "admissions_all = admissions_surg_renamed.unionByName(admissions_med_renamed)\n",
        "# Join with imaging on DE_ID (note case: make sure columns are consistent)\n",
        "admissions_img = admissions_all.join(imaging_deid, on=\"DE_ID\", how=\"left\")\n",
        "\n",
        "admissions_img.show(5, truncate=False)\n",
        "print(admissions_all.count())\n",
        "print(admissions_img.count())"
      ],
      "metadata": {
        "colab": {
          "base_uri": "https://localhost:8080/",
          "height": 0
        },
        "id": "am6du6VNObyj",
        "outputId": "07c22a41-851a-49d6-e5ea-c4f1008c23b9"
      },
      "execution_count": 21,
      "outputs": [
        {
          "output_type": "stream",
          "name": "stdout",
          "text": [
            "+------+--------------+--------------+--------------+--------------+---------------+------+----+--------------------+----------------------------------------+----------------+-----------------+--------------+--------------+-----------------+--------------------------+\n",
            "|DE_ID |admission_date|admission_time|discharge_date|discharge_time|department     |gender|age |main_diagnosis_icd10|main_diagnosis_name                     |test_name       |ordered_date_time|performed_date|performed_time|technician_name  |brief_report              |\n",
            "+------+--------------+--------------+--------------+--------------+---------------+------+----+--------------------+----------------------------------------+----------------+-----------------+--------------+--------------+-----------------+--------------------------+\n",
            "|DE0609|1998-02-01    |07:02         |1998-03-31    |07:17         |General Surgery|M     |NULL|E0800               |Diabetes mellitus with complications    |US              |NA               |1998-03-24    |16:15         |claire melko     |Indication: Normal        |\n",
            "|DE1144|2010-11-30    |04:33         |2011-03-25    |20:59         |General Surgery|F     |24  |M0500               |Rheumatoid arthritis and related disease|ct neck and head|NA               |2011-03-12    |12:33         |zach straughter  |Normal                    |\n",
            "|DE0755|2015-03-05    |09:40         |2015-08-28    |04:51         |General Surgery|M     |92  |O045                |Induced abortion                        |RT LEG DOPPLER  |NA               |2015-05-21    |02:44         |marco carr       |On visual analysis, normal|\n",
            "|DE0755|2015-03-05    |09:40         |2015-08-28    |04:51         |General Surgery|M     |92  |O045                |Induced abortion                        |ct neck         |NA               |2015-05-08    |03:06         |mastoora al-kaber|Cancer                    |\n",
            "|DE0725|1987-11-07    |21:37         |1988-05-10    |15:32         |General Surgery|F     |93  |A6000               |Viral infection                         |ct neck         |NA               |1988-01-26    |11:47         |marco carr       |No significant abnormality|\n",
            "+------+--------------+--------------+--------------+--------------+---------------+------+----+--------------------+----------------------------------------+----------------+-----------------+--------------+--------------+-----------------+--------------------------+\n",
            "only showing top 5 rows\n",
            "\n",
            "3500\n",
            "5406\n"
          ]
        }
      ]
    },
    {
      "cell_type": "code",
      "source": [
        "admissions_img.select(\"*\").filter(admissions_img[\"DE_ID\"]==\"DE0755\").show()"
      ],
      "metadata": {
        "colab": {
          "base_uri": "https://localhost:8080/",
          "height": 0
        },
        "id": "-TACDUy2TKqp",
        "outputId": "8f948d99-6dad-4141-dcc8-3037a93edb89"
      },
      "execution_count": 23,
      "outputs": [
        {
          "output_type": "stream",
          "name": "stdout",
          "text": [
            "+------+--------------+--------------+--------------+--------------+---------------+------+---+--------------------+-------------------+--------------+-----------------+--------------+--------------+-----------------+--------------------+\n",
            "| DE_ID|admission_date|admission_time|discharge_date|discharge_time|     department|gender|age|main_diagnosis_icd10|main_diagnosis_name|     test_name|ordered_date_time|performed_date|performed_time|  technician_name|        brief_report|\n",
            "+------+--------------+--------------+--------------+--------------+---------------+------+---+--------------------+-------------------+--------------+-----------------+--------------+--------------+-----------------+--------------------+\n",
            "|DE0755|    2015-03-05|         09:40|    2015-08-28|         04:51|General Surgery|     M| 92|                O045|   Induced abortion|RT LEG DOPPLER|               NA|    2015-05-21|         02:44|       marco carr|On visual analysi...|\n",
            "|DE0755|    2015-03-05|         09:40|    2015-08-28|         04:51|General Surgery|     M| 92|                O045|   Induced abortion|       ct neck|               NA|    2015-05-08|         03:06|mastoora al-kaber|              Cancer|\n",
            "+------+--------------+--------------+--------------+--------------+---------------+------+---+--------------------+-------------------+--------------+-----------------+--------------+--------------+-----------------+--------------------+\n",
            "\n"
          ]
        }
      ]
    },
    {
      "cell_type": "markdown",
      "source": [
        "# Q3. In admissions_img, create a new length_of_stay variable defined as discharge date and time minus admission date and time (in days). Create a data frame called los by calculating the mean length_of_stay for each department."
      ],
      "metadata": {
        "id": "MUS5qRP0UuYC"
      }
    },
    {
      "cell_type": "code",
      "source": [
        "admissions_img1 = admissions_img.withColumn(\"length_of_stay\",datediff (col(\"discharge_date\"),col(\"admission_date\")))\n",
        "los = admissions_img1.groupBy(\"department\").agg(mean(admissions_img1[\"length_of_stay\"])).alias(\"mean_length_of_stay\")"
      ],
      "metadata": {
        "id": "K6GhRdbyUeFX"
      },
      "execution_count": 38,
      "outputs": []
    },
    {
      "cell_type": "code",
      "source": [
        "los.show()"
      ],
      "metadata": {
        "colab": {
          "base_uri": "https://localhost:8080/",
          "height": 0
        },
        "id": "DUB9QsptVLU7",
        "outputId": "a1de1cc9-8965-4ed6-d17f-4b7b1b2dfac8"
      },
      "execution_count": 39,
      "outputs": [
        {
          "output_type": "stream",
          "name": "stdout",
          "text": [
            "+--------------------+-------------------+\n",
            "|          department|avg(length_of_stay)|\n",
            "+--------------------+-------------------+\n",
            "|          Obstetrics|  105.5532319391635|\n",
            "|     General Surgery| 100.88138138138139|\n",
            "|General Internal ...|  98.92404371584699|\n",
            "|     Palliative Care|  95.79432624113475|\n",
            "|  Addiction Services| 101.00298953662183|\n",
            "|            Oncology|  102.8787483702738|\n",
            "+--------------------+-------------------+\n",
            "\n"
          ]
        }
      ]
    },
    {
      "cell_type": "markdown",
      "source": [
        "# Q4. In imaging, filter to the first performed test for each test_name. Then, transform the data into wide format such that each test_name becomes a column displaying the performed_date of that test. Export this as q4_df. Display the head of q4_df."
      ],
      "metadata": {
        "id": "R_Krp1zrW8wg"
      }
    },
    {
      "cell_type": "code",
      "source": [
        "imaging_deid.printSchema"
      ],
      "metadata": {
        "colab": {
          "base_uri": "https://localhost:8080/",
          "height": 0
        },
        "id": "PymLy1rXWlKm",
        "outputId": "5fd19d8a-c44a-47b1-9147-d17877dbf543"
      },
      "execution_count": 40,
      "outputs": [
        {
          "output_type": "stream",
          "name": "stdout",
          "text": [
            "root\n",
            " |-- test_name: string (nullable = true)\n",
            " |-- ordered_date_time: string (nullable = true)\n",
            " |-- performed_date: string (nullable = true)\n",
            " |-- performed_time: string (nullable = true)\n",
            " |-- technician_name: string (nullable = true)\n",
            " |-- brief_report: string (nullable = true)\n",
            " |-- DE_ID: string (nullable = true)\n",
            "\n"
          ]
        }
      ]
    },
    {
      "cell_type": "code",
      "source": [
        "from pyspark.sql import Window\n",
        "\n",
        "# Define window partitioned by DE_ID and test_name ordered by performed_date ascending\n",
        "window_spec = Window.partitionBy(\"DE_ID\", \"test_name\").orderBy(col(\"performed_date\").asc())\n",
        "\n",
        "# Add row_number and filter to first performed test per test_name per DE_ID\n",
        "imaging_first = imaging_deid.withColumn(\"rn\", row_number().over(window_spec)) \\\n",
        "                            .filter(col(\"rn\") == 1) \\\n",
        "                            .drop(\"rn\", \"performed_time\", \"technician_name\", \"brief_report\", \"ordered_date_time\")\n",
        "\n",
        "# Pivot to wide format with each test_name as a column containing performed_date\n",
        "q4_df = imaging_first.groupBy(\"DE_ID\").pivot(\"test_name\").agg(first(\"performed_date\"))\n"
      ],
      "metadata": {
        "colab": {
          "base_uri": "https://localhost:8080/",
          "height": 0
        },
        "id": "wRNTFZ8qXEDv",
        "outputId": "8c1632aa-2b6b-436b-8301-e9b750537e37"
      },
      "execution_count": 42,
      "outputs": [
        {
          "output_type": "stream",
          "name": "stdout",
          "text": [
            "+------+-----------------+----------+----------+------------+----------+--------------+------------+----------+------------------+-------+--------------+----------------+--------------+-----------------+----------+----------+---------+----------+-------+----------------+\n",
            "|DE_ID |ABDOMEN/PELVIS US|Abdomen CT|CT        |CT - ABDOMEN|CT - Femur|CT neck + head|DOP LEG VEIN|DOPPLER US|Doppler Ultrasound|Head ct|LT LEG DOPPLER|NECK AND HEAD CT|RT LEG DOPPLER|THORAX/ABDOMEN CT|US        |US ABDOMEN|US PELVIS|Ultrasound|ct neck|ct neck and head|\n",
            "+------+-----------------+----------+----------+------------+----------+--------------+------------+----------+------------------+-------+--------------+----------------+--------------+-----------------+----------+----------+---------+----------+-------+----------------+\n",
            "|DE0002|NULL             |NULL      |1984-08-04|NULL        |NULL      |NULL          |NULL        |NULL      |NULL              |NULL   |NULL          |1984-09-04      |NULL          |NULL             |NULL      |NULL      |NULL     |NULL      |NULL   |NULL            |\n",
            "|DE0003|NULL             |NULL      |2000-05-02|NULL        |NULL      |NULL          |NULL        |NULL      |NULL              |NULL   |NULL          |NULL            |NULL          |NULL             |NULL      |NULL      |NULL     |NULL      |NULL   |NULL            |\n",
            "|DE0004|NULL             |2002-09-01|NULL      |NULL        |NULL      |NULL          |NULL        |NULL      |NULL              |NULL   |NULL          |NULL            |NULL          |NULL             |NULL      |2002-10-02|NULL     |NULL      |NULL   |NULL            |\n",
            "|DE0005|NULL             |NULL      |NULL      |NULL        |NULL      |NULL          |NULL        |NULL      |NULL              |NULL   |NULL          |NULL            |NULL          |NULL             |NULL      |2014-12-08|NULL     |NULL      |NULL   |NULL            |\n",
            "|DE0007|NULL             |NULL      |NULL      |NULL        |NULL      |NULL          |1985-01-10  |NULL      |NULL              |NULL   |NULL          |NULL            |NULL          |NULL             |NULL      |NULL      |NULL     |NULL      |NULL   |NULL            |\n",
            "|DE0008|NULL             |NULL      |2000-06-08|NULL        |NULL      |NULL          |NULL        |NULL      |NULL              |NULL   |NULL          |NULL            |NULL          |NULL             |NULL      |NULL      |NULL     |NULL      |NULL   |NULL            |\n",
            "|DE0009|NULL             |NULL      |1988-04-15|NULL        |NULL      |NULL          |NULL        |NULL      |NULL              |NULL   |NULL          |NULL            |NULL          |NULL             |NULL      |NULL      |NULL     |NULL      |NULL   |1988-04-06      |\n",
            "|DE0010|NULL             |NULL      |NULL      |NULL        |NULL      |1986-02-18    |NULL        |NULL      |NULL              |NULL   |NULL          |NULL            |NULL          |NULL             |NULL      |NULL      |NULL     |NULL      |NULL   |NULL            |\n",
            "|DE0011|NULL             |NULL      |NULL      |NULL        |NULL      |NULL          |NULL        |NULL      |NULL              |NULL   |NULL          |NULL            |NULL          |NULL             |NULL      |NULL      |NULL     |2002-02-25|NULL   |NULL            |\n",
            "|DE0012|NULL             |NULL      |NULL      |2017-04-26  |NULL      |NULL          |NULL        |NULL      |NULL              |NULL   |NULL          |NULL            |NULL          |NULL             |NULL      |2017-04-18|NULL     |2017-04-20|NULL   |NULL            |\n",
            "|DE0015|NULL             |NULL      |NULL      |NULL        |NULL      |1988-05-10    |NULL        |NULL      |NULL              |NULL   |NULL          |NULL            |NULL          |NULL             |NULL      |NULL      |NULL     |NULL      |NULL   |NULL            |\n",
            "|DE0016|NULL             |NULL      |NULL      |NULL        |NULL      |NULL          |NULL        |NULL      |NULL              |NULL   |NULL          |NULL            |NULL          |NULL             |NULL      |NULL      |NULL     |2007-10-19|NULL   |2007-08-30      |\n",
            "|DE0017|NULL             |NULL      |NULL      |NULL        |NULL      |NULL          |NULL        |NULL      |NULL              |NULL   |NULL          |NULL            |NULL          |NULL             |2011-12-22|NULL      |NULL     |NULL      |NULL   |NULL            |\n",
            "|DE0018|NULL             |NULL      |NULL      |NULL        |NULL      |NULL          |NULL        |NULL      |NULL              |NULL   |NULL          |NULL            |NULL          |NULL             |NULL      |1992-08-20|NULL     |NULL      |NULL   |NULL            |\n",
            "|DE0020|NULL             |NULL      |NULL      |NULL        |NULL      |NULL          |NULL        |NULL      |NULL              |NULL   |NULL          |NULL            |NULL          |NULL             |NULL      |2006-09-24|NULL     |NULL      |NULL   |NULL            |\n",
            "|DE0021|2005-03-18       |NULL      |NULL      |NULL        |NULL      |2005-04-27    |NULL        |NULL      |NULL              |NULL   |NULL          |NULL            |NULL          |NULL             |NULL      |NULL      |NULL     |NULL      |NULL   |NULL            |\n",
            "|DE0022|NULL             |NULL      |NULL      |NULL        |NULL      |NULL          |NULL        |NULL      |NULL              |NULL   |NULL          |NULL            |NULL          |NULL             |2014-11-02|NULL      |NULL     |NULL      |NULL   |NULL            |\n",
            "|DE0023|NULL             |NULL      |NULL      |NULL        |NULL      |NULL          |NULL        |NULL      |NULL              |NULL   |NULL          |NULL            |2001-10-04    |NULL             |2001-10-07|NULL      |NULL     |NULL      |NULL   |NULL            |\n",
            "|DE0024|NULL             |1985-05-16|NULL      |NULL        |NULL      |NULL          |NULL        |NULL      |NULL              |NULL   |NULL          |NULL            |NULL          |NULL             |1985-01-14|NULL      |NULL     |1985-03-23|NULL   |NULL            |\n",
            "|DE0025|NULL             |NULL      |NULL      |NULL        |NULL      |NULL          |NULL        |NULL      |NULL              |NULL   |NULL          |NULL            |NULL          |NULL             |1996-02-23|NULL      |NULL     |NULL      |NULL   |NULL            |\n",
            "+------+-----------------+----------+----------+------------+----------+--------------+------------+----------+------------------+-------+--------------+----------------+--------------+-----------------+----------+----------+---------+----------+-------+----------------+\n",
            "only showing top 20 rows\n",
            "\n"
          ]
        }
      ]
    },
    {
      "cell_type": "code",
      "source": [
        "q4_df.show(5, truncate=False)"
      ],
      "metadata": {
        "colab": {
          "base_uri": "https://localhost:8080/",
          "height": 0
        },
        "id": "_wENwlQ6XslR",
        "outputId": "922dc7fd-29a0-46a0-91e3-663240c8d0df"
      },
      "execution_count": 43,
      "outputs": [
        {
          "output_type": "stream",
          "name": "stdout",
          "text": [
            "+------+-----------------+----------+----------+------------+----------+--------------+------------+----------+------------------+-------+--------------+----------------+--------------+-----------------+----+----------+---------+----------+-------+----------------+\n",
            "|DE_ID |ABDOMEN/PELVIS US|Abdomen CT|CT        |CT - ABDOMEN|CT - Femur|CT neck + head|DOP LEG VEIN|DOPPLER US|Doppler Ultrasound|Head ct|LT LEG DOPPLER|NECK AND HEAD CT|RT LEG DOPPLER|THORAX/ABDOMEN CT|US  |US ABDOMEN|US PELVIS|Ultrasound|ct neck|ct neck and head|\n",
            "+------+-----------------+----------+----------+------------+----------+--------------+------------+----------+------------------+-------+--------------+----------------+--------------+-----------------+----+----------+---------+----------+-------+----------------+\n",
            "|DE0002|NULL             |NULL      |1984-08-04|NULL        |NULL      |NULL          |NULL        |NULL      |NULL              |NULL   |NULL          |1984-09-04      |NULL          |NULL             |NULL|NULL      |NULL     |NULL      |NULL   |NULL            |\n",
            "|DE0003|NULL             |NULL      |2000-05-02|NULL        |NULL      |NULL          |NULL        |NULL      |NULL              |NULL   |NULL          |NULL            |NULL          |NULL             |NULL|NULL      |NULL     |NULL      |NULL   |NULL            |\n",
            "|DE0004|NULL             |2002-09-01|NULL      |NULL        |NULL      |NULL          |NULL        |NULL      |NULL              |NULL   |NULL          |NULL            |NULL          |NULL             |NULL|2002-10-02|NULL     |NULL      |NULL   |NULL            |\n",
            "|DE0005|NULL             |NULL      |NULL      |NULL        |NULL      |NULL          |NULL        |NULL      |NULL              |NULL   |NULL          |NULL            |NULL          |NULL             |NULL|2014-12-08|NULL     |NULL      |NULL   |NULL            |\n",
            "|DE0007|NULL             |NULL      |NULL      |NULL        |NULL      |NULL          |1985-01-10  |NULL      |NULL              |NULL   |NULL          |NULL            |NULL          |NULL             |NULL|NULL      |NULL     |NULL      |NULL   |NULL            |\n",
            "+------+-----------------+----------+----------+------------+----------+--------------+------------+----------+------------------+-------+--------------+----------------+--------------+-----------------+----+----------+---------+----------+-------+----------------+\n",
            "only showing top 5 rows\n",
            "\n"
          ]
        }
      ]
    },
    {
      "cell_type": "markdown",
      "source": [
        "# Q5. What considerations do you have to streamline the processing from Q1-4 to make it into a flexible pipeline?\n"
      ],
      "metadata": {
        "id": "jRPLfOqzaW1c"
      }
    },
    {
      "cell_type": "markdown",
      "source": [
        "To make the pipeline flexible and easy to maintain, I would split the whole process into smaller Python or PySpark scripts for each step—like de-identifying data, joining tables, and calculating metrics. I’d use config files or environment variables to pass in things like file paths and database info, so I don’t have to change code every time something updates. I’d also add good error handling and logging so we know if something goes wrong, and make sure the pipeline can run multiple times without messing up the data. Checking the data at each step to catch any issues is also important."
      ],
      "metadata": {
        "id": "ObgtwOXGaaED"
      }
    },
    {
      "cell_type": "markdown",
      "source": [
        "To run the pipeline every day at 9 am, I’d set up a cron job on the Linux machine that runs the bash script automatically at that time. The bash script would call the Python or PySpark scripts and handle logging so we can keep track of everything."
      ],
      "metadata": {
        "id": "TUNDCKcVa0Du"
      }
    },
    {
      "cell_type": "markdown",
      "source": [
        "For uploading the results (los and q4_df) to Postgres, I’d use transactions to make sure the upload only commits if everything succeeds. I’d also do some checks, like counting rows, to confirm the data was uploaded correctly. Logs and alerts would help catch any upload problems."
      ],
      "metadata": {
        "id": "UKHIHgk4a5SM"
      }
    },
    {
      "cell_type": "markdown",
      "source": [
        "Optionally use Azure Data Factory or Databricks Jobs for more advanced pipeline management.\n",
        "\n",
        "Store DB credentials securely via environment variables or vaults.\n",
        "\n",
        "I have limited experience with bash but am motivated to learn and implement it properly.\n",
        "\n",
        "I’m confident I can quickly get up to speed or work with teammates to build the automation"
      ],
      "metadata": {
        "id": "crMX33bHbATU"
      }
    },
    {
      "cell_type": "markdown",
      "source": [
        "#Snippet for connection into Postgres DB and writing into the tables"
      ],
      "metadata": {
        "id": "CWylQqMCbQ96"
      }
    },
    {
      "cell_type": "code",
      "source": [
        "# PySpark code to write DataFrame to Postgres in Databricks\n",
        "\n",
        "jdbc_url = \"jdbc:postgresql://<host>:<port>/<database>\"\n",
        "connection_properties = {\n",
        "    \"user\": \"<username>\",\n",
        "    \"password\": \"<password>\",\n",
        "    \"driver\": \"org.postgresql.Driver\"\n",
        "}\n",
        "\n",
        "# write 'los' DataFrame to postgres table 'length_of_stay'\n",
        "los.write.jdbc(url=jdbc_url, table=\"length_of_stay\", mode=\"overwrite\", properties=connection_properties)\n",
        "\n",
        "# q4_df:\n",
        "q4_df.write.jdbc(url=jdbc_url, table=\"imaging_tests\", mode=\"overwrite\", properties=connection_properties)\n"
      ],
      "metadata": {
        "id": "bccxm25va_-k"
      },
      "execution_count": null,
      "outputs": []
    },
    {
      "cell_type": "markdown",
      "source": [
        "Job Scheduling in Databricks:\n",
        "\n",
        "*   Use Databricks Jobs UI to create a job that runs your notebook.\n",
        "*   Set schedule to daily at 9 AM.\n",
        "*   Configure retries and notification emails on failure.\n",
        "\n",
        "Job Name : **Daily Admissions and Imaging ETL**\n"
      ],
      "metadata": {
        "id": "OPfpbH57bfLG"
      }
    },
    {
      "cell_type": "markdown",
      "source": [
        "## Q6.Now that you have created an automatic pipeline in Q5, please design an ETL log that sits in the same postgres database (explain what columns this ETL log and constraints should be included). Please modify your code in Q5 to allow for populating your designed columns in the ETL log. (Hint: what needs to be supplied from the bash script and what can be auto-generated from a relational database)"
      ],
      "metadata": {
        "id": "KwUTrG5kjvwK"
      }
    },
    {
      "cell_type": "markdown",
      "source": [
        "ETL Log Table Design"
      ],
      "metadata": {
        "id": "UhwLseh5d3QG"
      }
    },
    {
      "cell_type": "markdown",
      "source": [
        "![image.png](data:image/png;base64,iVBORw0KGgoAAAANSUhEUgAAA50AAADpCAIAAAAoFcRXAAAgAElEQVR4Ae1dWVZrOQxkXSyI9bAaNsNP7+T1kWxZVfIQZyK5ifjoa1tTqWT5msCjP/7Lr2QgGUgGkoFkIBlIBpKBZOD4DHz8999///LrvRnIPbBT/2Rph6XUSQaOxUD29bHqlWiTgQUDH+Uru3rB0ZuIcg/sFDpZ2mEpdZKBYzGQfX2seiXaZGDBQN5rF+S8lyhP9p16J0s7LKVOMnAsBrKvj1WvRJsMLBjIe+2CnPcS5cm+U+9kaYel1EkGjsVA9vWx6pVok4EFA3mvXZDzXqI82XfqnSztsJQ6ycCxGMi+Pla9Em0ysGAg77ULct5LlCf7Tr2TpR2WUicZOBYD2dfHqleiTQYWDBzhXvv7/SkwP79/F4mk6FoG8mTfYTBZ2mEpdZKBYzGQfX2seiXaZGDBwB/fa39/f74+9ZaqN9XPr5+Nu+oT3Gt/vipRdLkuq18/C34PJNo42WslKhfyvcbn1/dOCS+moYvYYlMlLvZ/tuEGS2f7TIM5A90GuPuWMyzXHDvX2Fr8fP4lA9nXf8m2xrroMvDnKP9lL/8951dHrNeEP+nq7hUlwTeuJ0+wsdq99uMDrrF5r63bZ6OI//5VDoG/jd073DMadSvmRoQzVf6kU87E9Mrqsw1w//Kfc+zEvX2O7StX7zi5ZV//ba2GfX2vpo7teVaq5/TyVYHOQpXKSwb+7l7bNvKnfcJXvl87/dsF52ysZbKXC8t+/dSPmr35yup5F7XLMdzbcuNkj5WQT9/LDnJSpjCv7PkrzaewzhRssHSmx1RfMXDVlls5vqnsSTbnTXN6L2fZ139Z78svAxeh/LP2/LNAF9HwRkZ/dq+tFcePOwPN9CsKH/ADbnq11YlfJovjeq8q0q8fv3B96O86+Pzzq12kh8pNSuhKkK8fexYhzxi/JGC/YzEM9PP7b4hKXP9+233xo+AnMHeabJzslXy6xBYS7HP3CQnVsO62j/qp90R5nF+N44UffABcw4iOc964hIpcTvIGS2P8uXoRA6e33KJffn++7bee6FeeoL/auu6vz++f+q3a1w9FXmynqkd7m2x1s+HvX+HhBhu19XzYqBfxlkbnMZB9fR5fV2nXs/ySy8CpfulaftSe5dWBzf5PX8btNyTltWuvb+rlMgkXjKI5DPSvw3MVcWm8ycBf3Wut6HAtIYQm97eDjIp2lZXbVJ24n9IjdK9lJ/2sGo9jDputBPn6qV1Vo7VVScV6FcOtA6FmS3boiC6SxNsNJxsnO1XCQtfENdcZCR3Voj1TNsf8xDBVEpdwb3QRC9vG5CC2iThsnG2wFE1yfgUDJ7fcaBuVUsYtMOvGoh12xPBeGzq2/BZVDCMHCKPuNNTPDE4JUqVXMJem5zCQfX0OW9fpWj/M9rjJud12+iVaeiu6L/HTNXtcgQ6tPsdnSnUrPmNsOAda8FnG1/GZ1h0DlfG7dzVtjg6F7ap2tbA9ogtkWye+QcoWrZbNrvyDNJvah57kqW3E+pHNb93sDQTALCINOh7Kh0Y/P7/+Ca3+Q7MLUDFE+S5SSjTCBPBuMtzYAwFcCVsXS0XmJFiNvXILxgYJ1eqAeTue6hppVFQf9lsvPv9tR5Cxeg7JGywNwOfSpQyc2nJBjqWsraO7Qz42Kduk7hJrTflEVz9vqesf7Z+ykmffPuWfSfpcW562nn6ADH/ChSO23VebunmqR1bUvpS4tDuLgezrs+i6Spk6q/cUO6B1iPZpm436pZiWTveW7189NYQ3++L1TWiX0eMLyeYdnj7nXLktA398rx1+GGrlJ2HdefIuGm2sepVpn5Paa6r8SbAmraZtDl6b3yas299uO0h0sSuaxado4apebOFvPSixF6CqCGtd2sNBIqybjjdOdqqEBSdO449z4E7OemodfhEBlM25PwfmXMKiYNWLladNVn01dutgh+QNlhxzjq5m4NSWW5XSZZ/t1w36fVEh8vaJd9PerDove4YmwTbK2plVzrvOcwfkag7TwWkGsq9Pc3Qrjbrl6X3vvq/ql2osb5LW8nT0lzijHpu9jCra8mI50a0d9jEeTzZH92GgvtHv39VW4OHdodsOtBXP2Fhx28U5BYrCzXut3ab4t22rM74qvcO9tlKqqa5I6L5pXir3u51K18TVyee3D4qszmG7gYM65GLZr70038PB/TtlGPZtF2NdhQjccidK+fvTfr26fD4Ku4A5LQL7tijcTe176/F2aoiaGFEPIuJSt1E7IIwzZ3dhIPv6LrSOndb9P77YYnNUc1w62S9dy/ft2b/pq1d+I9BVliat0YMnBGqpD/CYKJ/3YuDP7rX2Mvr4+Pq2H9frd0jywwXbVe2tYgu6f+qENlb9CYL8rEFTqJZVtW27OKd9F4VhjyLlxa65LZrlzyPU5iwa9Wed8g+/BNYFqChZhHD38cbJHsFJAcsOKpmuSLAN0EhcKvfZFvXuKKyQ6j6uhPutxH4PoW2Ufkf1oVYrGyytzFN2JgOntlyUg/ufL/vIBpRsv1hryu8nwO8h+AayQ6msuJn+HgJvp/7FCQHNjx0GftqVTqiqrS0WpxDklsMbM5B9fWNCl+7qYX7BZcDaadwvw5bv27PvscXLCHt5Hb0PNMGz5CaFN2Cg3gf+pKvbZq5B9VFfJCsZbSzbWejjshukeRp3CHNb4Lmm2QqKslpBMix7eZ7z2xF2/yNPEJmB3XC2sQeGSTYK/I1N2O2qQMajX+gXK1Pu86o7pGcCtg4IKZrjMQ0wakKT9bFhZYMl0M7htQxM6gjf30xL2QlKgbvlsufKMuy/GrmsTGDYliGx7+3qrYuIO72amid7NwKQaylM+w0Gsq83SLqhyqonVjJ78477pbMsarE9+3stadgbgVqfJuPo4QX49dO/y93whlymq46BWsK/6mr+HRb8FRj5gxj24V/47Zi659pJ758S6r8H071chfElEed139Nu961WpC0OkFUkrgkfCLY3LMH61g9sL0ElrumPAkmJKDLguuVwYw903d/9z5/mJChlVuFCzFI5pkalI2GVMEtW+e/2kbL948FqeyHJGywRuJxcx8DpLTfvF9xf9tGtoMHSt7/n0zV/jVy3av3WdL6d2uklBmSrEZs4HG6m6h3eAbmOwLTeYiD7eoumWyphG/Lvwy4uAyf6Zdryrf+0nwc9hpZf+PqmXq6Tebf6nxDUQOgVj6Bb8pi+egb++F7bA8iVZ2HgsCd7PWv48t8dQDei+bAs3Sj/N3Vzr+30pnQ+X9rZ189Xk0SUDFzIQN5rLyTu9cyOerIPr7X9t/U3KthRWbpR+u/qJu+1L1757OsXL3Cm904M5L32naq9zPWgJ3u9cXx+/1B297qIHJQl4iYnZzNwr+10NpA0uA8D2df34TW9JgMPYCDvtQ8g/TlD5sm+U5dkaYel1EkGjsVA9vWx6pVok4EFA3mvXZDzXqI82XfqnSztsJQ6ycCxGMi+Pla9Em0ysGDA77X/5VcykAwkA8lAMpAMJAPJQDJwWAb8Xru4/KboHRjITyx2qpws7bCUOsnAsRjIvj5WvRJtMrBgIO+1C3LeS9Sd7PXfyugWKX/FUwjB1bp7TNiJTFCIlD8ayCvgz/8i4Eq5yB75346lR4LJ2MlAMnATBrKvb0JjOkkGnoGBvNc+QxWeAgOf7HpHbbfQ3+9PG6sg3kJLAkFUrrmuOrzXyuLXl/yH/57BUPkJeGKWngBQQkgGkoGrGci+vprCdJAMPAsDea99lko8HAef7NN7Zbi8IuxOJE78wjpyKWv1/zfIF9uRMsZ61JhZehSKjJsMJAO3ZCD7+pZspq9k4KEM5L32ofQ/U3A+2flKCji7y6vLOhFfTnmmZrKk99lO1i14mIeOmKWHQsngyUAycCMGsq9vRGS6SQYez0Deax9fgydBEE52vaTK/8z++5cAdpdXlwaRXE3RvL+qykr9mDYK49yjPHYUWHosmIyeDCQDN2Eg+/omNKaTZOAZGMh77TNU4SkwDE52u9vi9dTX6t7xi28U8W8W/ItXVb4GB2mYPgVDAmLA0tNgSyDJQDJwGQPZ15fxllbJwBMykPfaJyzKYyBNT/Z6Xa23VL6NElQUFSO62YarKmqLGxbzjMI8dDJl6aGoMngykAxcw0D29TXspW0y8FQM5L32qcrxSDCrk11umfU3BuJ1FCAHUbya8rxcfOv+84fdhFkZgjx4uGLpwdAyfDKQDFzIQPb1hcSlWTLwfAzkvfb5avIgRKuTHW6sMIxAowhuw6JKV9Woawqz37eNsR41X7H0KEwZNxlIBq5jIPv6Ov7SOhl4IgbyXvtExXgsFDrZf77gX3zpHdQunKMLaQXeiXSh/f4t3mvDlbc6gFVUfiwvHJ1YYlHOkoFk4KAMZF8ftHAJOxnoGch7bc/Jm66Ek71cZuv+aHfT0/+/MftFAmWRLrZwVYULLLHt6zqq0fUBEMjkjyeBpT+OnuGSgWTgHgxkX9+D1fSZDDyEgbPvtf5/nuo+nRsmAJeZKF+IomrO789Anuw7HN+UJbr270RPnYczcK9Tq30f+STfwBnRki99r2qC13retK9fi5rMJhk4GgPn3mvhVN+71y4IAV8LrRT9EQN5su8QHVkav/Y3t3bea3cofy6daWlZ0K6p7WcOy/vq1Yfp3Ugab/AuXJ+v/iLTYLkSUu7KTFrn9e8WQl9H3HCzjyL4hS2ByxmZ8rD4osp/4rvkW40gpqybq8GGUhGHGCz16AramkDnv/51x4GnwVJBnv9NBp6Cgdokoavn0KBrdXOH3psbDiTgayDNpT9mYHsP/DGu5woXWZJN3DfBq2ztV8kj7qEr8pqasiCejjoPVyBAxcYgePhQkPUbvIMV8+0UwoWvyp8m79DXko5fFAVlm4ZMS2GdIc6oSMHaeZmKlPGvjvZlXEXoIJTsUdkIHUMP/h1o5ywGA9UcJgPPwMD0Xtu6znsSlz6+fuZ9gIlRI9XvDzXo5/f3lx8WaJLjhzAQTvaHYHj+oJEl2d/wPqkJhF3//GlNEL5KHjG9K/KamrJgcDrqkl+WCBMbk+jBE0HWb/AO1CDfoDNMcbgYDP9kGvpa0oFSYem6TCUHp4gzKsrf35+gUfIpEQbvQHHw9aOXSeJ9HVelhpgmRB+gU9hmYZ8HU8RmSf5o0lRykAw8EQPjey1tXZpAX+j6uA8gQTCg7/vUOu+1wNSjh+FkfzScJ40fWZL93TcB7vr6hqob3r9NlARJD7/rK9821rdO7LRgVfqqdjK8qAKDYtW+HPLUOeljp3om4s49hXh1ytpogQEAtizX75oVLoiMMksDRMWqurR1jNCA0iLmhQLzUJJwydePjFlaE2VBpFWV1E9HmHuXvNw3M4dmYlGQkEEFIg/06R6jpHFSLDFgMyqxXNQEEG19K6qK4qgzHi6y5wJA/luTjdSij6J8Ei1HkFnoa/GAYCFGDB+aGDSdls7GjFhbgJQM+rOh/B5C3AWAUQxLQXunLV8TFYbQW++/Gdl+UnXzgNIcJwPPxUB9Q1BX656HhsEdD7u679VRam7Q6btoZJhrf8wA7YE/jn2ccJEl2cT0etBUaGvLxF454SqLeqpWXZXXjr1ZY+egFct0hq1rxPZ/t81As4MFvuIKUdr7bhSwaJNzNCVBOWDMi6o1UjFXPIjszjC2kujzlEOSonwKz7AuJUf7LyENDquORjHEZqdPNjZirUYFsG2HOmsUkaOTuXj4Rc4CvyouyoGB2RlKbNylKILholmUJwPo8mMfrLzh3WKFvpZ0nKlSzToPmWpEUOWYpmxPCydaUl3WroTUsgdZcCFShFj38Of3z+DDYQtb48mnxN2pFfw3kzJQ6QnnwSSnycCjGBjda0M/0UkCsnUfWELNoDbGrwlKH8KB4IIcPYKBcLI/AsIBYkaWZH/79cMSaLteFoIKymAMQ/UC89hpIJIhhQeZgemf6BDHhrZ1ZfQWlfsLGAdjeO6N1/l+E2RuFImkW4GoMROMhJGDU1ULMdHzSLXxgzFYkeOZHuvYKucvqwNrMbUEcQxOylCEe1sCo8h4mha4m2WgvurbRB+ds6HlcJFTEhVKCGGLKvqQ8QZajiCz0NdER8nN3MZMbb36RDRYSFz3DHC1qzsLT8SV8KbScd/yFZflq9MxY1OI28HknWFznoNk4EkYqJsYu9r2b9vfdaD9C62meqGp+6yaQa8uK9kkPWUPWsE98CAIBwgbWZL93TdB2/WSUVBBmY+79nBRd8txkVrFRh03VadaUcfA7jxcGQapaL2agQzaV/FOzlWu6x0WNatngagBo819e2u3GAsrRdaFaW7d6VjRPVMGRsHw1GKfnZ3Y6uKGcdwyChL8y7DlokL/T5e059IgIIPFzxBuCwuxAIXHtNRAj4TNUZf7zB2Yd8lGrOgjKKMIXA6Goa8Di4gbwxc1SptDgrILZLF69EXBBNoKkaQo1PFoC4jFaN0yrh5H9ujf1Pl5yjlr5ywZeBgD9YSjrqZuCshAdroPxLYZqDqeD9rFtBBi5fRPGaA98KeRjxQsstT2NybBrSEq8OpDCx+zCTbO6nXXWSEKGIfmQzMci4VDipMeiEYI6UHUauC3KGMhxiSb4M/xnGNVQ/vxwsbuVEOzkNB0omDqyizo7ERRVHArnG1cCRQ/xqX7KKNh4KqksiEnc6sQi7P04HMHpjO0HC6aRXkGAP0uRB9BGUXsNc5CX0s6ThQph0xjCJ6jskikbKiB48k3blZpdNW3ZoVI/gh2mbhcRuZaZcH/0nggzKVk4HkYGN1rdYNTU3M3VNHpPpA03bTTd9Hz8PHGSMLJ/sZMrFKPLHW7Wox5Z8sMbiEohDEMNT7OZTz2gFpz2BEkzefOYyLDi9kKgcShg8QgrozmeM6w6j76opRDgfo8DWdXy4Uqo+N46k+XhnR0XsUXVjzgCBQB2qDIkogJ54we7EKsmR76AmsYDi2Hi2BU84HN36+gDxmDMorYa5yFvpZ0JqWKmUoMiMkhSblM6C94oTbpVnzgPIpB5MmgP1/1EcrVgScZ/buRjdDY1vKZDDwhA6N7bX19tR2v+78eFrC1T/eB5AsGOm6nhXptsyek5t0ghZP93dLfzLdnSTdyaxb7jDK8XMPU1LvugDaDfxairVZtSt+0xkGRpED/WqrlpEaGoXqwKXoIzrvbYf1IyUzrSeHTFrAOqj//xNYSx6ABttiAR5mebxWQVRzNrYZvM/sJsIVhGtW26lY/oOgZI9D+Q0WN2BJxKyAKvRZ1R4ggSm4ui87m3JKXmov5YSv+d2OmE85zDKzmoIeyMmZ+qny4yLaiwo4Ras3CuAvKG+5rsNDXEsJ8MpxJTzRlDsm06Gx2C9ZMONHKd0mfXQ32rODk6AF5Jy94aszOf2d9ynlnkAvJwGMYGN9rrWnsfQTd5q15ug8kpdAL2rzF7Zf8Vb92HDwm/YzqDIST3QU5AgaGLFlT1H6BdhFL2fOwhB2BY7sRi5PP79+FSMJB41B0WAfU6FvAMCR38Pn9G5yLpn55Bm2pIqU4PBFnbliuBIbQo8INfk1XPJfMVW8lMDBATFmLwnmhOtKLjnp+PN9ZwQp9tAXcyEZsXFbnPIsEaDUn/pzmgoKOExQ2akOsEVCJi7Y14+bC0wlLpTeMIH12GrF91JlHCxXZROtM2Sj0tQTooXhsYl/RmDYTpCJXLrh9Dq9HsRsVta0HV8a5xS2JcHRLzp9RDoDKcFWMaOxuc5QMPBUDdRuHrn4qiAnmbxjIPbDD85+x9AIvkcmbGF7rO4ynTjJwfwb+rK/vn0pGSAbenYG81777Dmj5h5M9fvsOt5EoCp9s8I3MlPlzhRpVVPnTuiKoRhBT1s1V3bT+8+kq4hCqzUst18sHgaXLHZ2yZBZPaT+lvNQLiqjlhvlTok5Q78jAn/X1O5KbOScDf8vA1ffa7q7RLh147fjbpDLaJQyEk10K67dCvZHYVGvu15N4feEbWdsgZu3YpiLx8EX/vkKNlnHjnSnOPexVo8DSVb6WxsziUvWJha3E5Vjo98ATY09ob8TAn/X1G3GaqSYDD2Lg6nvtg3Bn2JszEE52uZHANUQvKHUe7pf1t+TaRZdvZEX5ef4P6VfyFli60luaJwPJwDMwkH39DFVIDMnATRjIe+1NaHwFJ+FkD/da+BcO5fcB2jW2+8eBo3vtT3cXNoesLUTKinqPos5HUJDp2PJ29Qks3c5xekoGkoGHMZB9/TDqM3AycGsG8l57a0YP6y+c7OFeq3fK8ee1ep2Ej3b5tmmXUXsaP6Ilt1fWxmttJwsuYtz2W7bL/0O6xb/wGVi60EuaJQPJwDMxkH39TNVILMnAVQzkvfYq+l7JOJzscolsl1W9Uba/QlNmdevYR6ROBd9U/TKK6+NV+7dh7bNgNOn/3VhT89gGrSF30W1GgaXbOE0vyUAy8FAGsq8fSn8GTwZuyUDea2/J5qF9hZPdboh1h+BF0S+ldtekG+bgMlrkLhAP1aMvCnvoWuYkRaGO200biBeL0TqoXDMMLF3jKm2TgWTgSRjIvn6SQiSMZOB6BvJeez2HL+IhnOxw9YwJ4v0y3j27OSrbnRNvqzju/5JX2Z/12oyuujgGkvzZ4u2egaXbOU5PyUAy8DAGsq8fRn0GTgZuzUDea2/N6GH9hZN9/16rH6rCR6R8s6TLaJnQX/BCbdKtRIq8Oo9iEDnr6M9XbzYKLN3MbzpKBpKBxzGQff047jNyMnBjBvJee2NCj+sunOxyicRfPoDE4v2yfMzalPlmyco6axdV8Qnaw3sq3JrZlf3WQotbEII/gHyzYWDpZn7TUTKQDDyOgezrx3GfkZOBGzPg99r/8isZSAaSgWQgGUgGkoFkIBk4LAN+r73xhTndHY2B/MRip2LJ0g5LqZMMHIuB7Otj1SvRJgMLBvJeuyDnvUR5su/UO1naYSl1koFjMZB9fax6JdpkYMFA3msX5LyXKE/2nXonSzsspU4ycCwGsq+PVa9EmwwsGMh77YKc9xLlyb5T72Rph6XUSQaOxUD29bHqlWiTgQUDea9dkPNeojzZd+qdLO2wlDrJwLEYyL4+Vr0SbTKwYCDvtQty3kuUJ/tOvZOlHZZSJxk4FgPZ18eqV6JNBhYM5L12Qc57ifJk36l3srTDUuokA8diIPv6WPVKtMnAgoG81y7IeS9Rnuw79U6WdlhKnWTgWAxkXx+rXok2GVgwkPfaBTnvJcqTfafeydIOS6lzdAbu/L/tezp6sq+friQJKBm4lIHRvXbrSNtSuhRV2j2AgTzZd0h/XZb0/1Ic/qfExsgdur0LZ/+LZf2/N3dSQ3LjJwU94VtI+Po5ofQY8Rl07WWxp/WYZO8S9XX7+i50pdNk4JkZGN1rt/De4U23FTeV7sUAnuyT6urrk17t9V5Aa//+tdtC3V56VYm4WaldqPoY//4N4VwROkI5Y44siZlA++juO0PAZ0R5hKry2crACO6QTwgXyh6kjOZmsxD0hF8hIWz0ExZRrPGsJ8pTCB8sV6US7jT7Z9C1k8V5vMQsDzm/uK9j8XyHRIkX3nWMK6nKqWNkXDneHDwz75MT1MU5SgZeioHaa7GrT+c4a6DTlqnxnAzQHpDydi/x/nUnal9f3fs+KJYDHg9zdY/+RaXcqYKtcjXabJeGvpJ8Yglv8Jje+CJ+ZeRHmo8KcCaeEy5OiM8Mtqm+DNoJZYGqvBnF1UZ726Uy6oJOF9luf7aRxWmY++GOonlRXytR9E27sDvYJcOyAjXFUWfKZuPK9Tqj701ZCyLnMBl4QQZG91ruAW+5D+zgovRdvs38INGCJnH2+f0rxuWLe9DX0aMi+PpxobxcfEYuJmgXkFJUGeCTXfnlt3itAxAmSl8/WgtS7TTZG8/Anww72/Hb/sLQIdj5U2apov3+/uQOEHS0L88P9FQWN8jnhIsT4vuwsQzaCWWBtvnZoEZ7m510QUU8XGS7/dnpLE6j3I92GM0L+lp56rpcV+M+OVXBQvmJY2RcOXbNM2d/tu4aOUoGXoeBE/daaYf2gqY+Vkk750m0YKc0fet6dWKvCm690un622xsVAPX84QCzycLSCmqDISTnWojKlCRaiEqWj0u3UAVFahKPft9mNGL/bLQfbSzVwJLhjYkhflKCJm3L9vwdf3rR41VXHZ10w4vzbYOTTlIwN2JT4hWvwGpboLzjmWPVr6nRH2X+fEwTSekbxbiI+QbONiOOMtIyJmxgSkYkEYmCwFmX6yhDSJvCoO+AFkZOikgGi6CfHD1nWVdalG/Fy07EjeIOBVTwP/zJTPw5/qCq33e0ExANWy/UI1mIVGRcRSANw88XGRCzp2d39cKwjF5QE2FBacqaL706emzmczYrRE3s2BMruXrOUoGXpGBcrR9UFe3bgpdVs/l0h6ihF1mnbkmKXpsofpbkzsMRhx5qrbzFlmDfTMp7QF70/g56kQbL1KIKvc6qjDoasXaqcr1M2ftGWx1PbhvL2cRBlkw59AtyOWDwJKHo7QIVLkZ1JBuYOC9j9QFTxtrbKezJsNsCEa9LjTFGsCLipbEJLrRYH71WyBh/zJrocm7hl2LUbodkdKRiQLydHXqkHpM6AARNMDXVYcTwWA27oKKYLhoFuVJKjKxzjQSWtYqbGJF1GSjYAt9FimQZWgO9vv9WQMzLagl7gzd7/dnqeRwkek4f3Z+XyMMiocJVMFUt8qdAdFstWMzmfletpC9jhFmGvJkLZTkOBl4PQaW99q+Gbj/qMlctGApKvUR6nW04tIIwYhtXMjrAsJlC0gpqgyEkz3QJ1zSgcnkMvkqqyWUB20UVu3oj7bmBoJfHLoLdv5CYAmhSGI11UWOaBFfN8EMpjLcYJGcl+TE0kxx3KcewgHhiHOFJMjA4eDNSlKMoMhAGrySK5FZdl1GJ9ggR51xh0gXoAabCNGxArINLU/kOKbthhDJF3kEKieyBs1RxCjuaAAFGeDbLJUAACAASURBVBL569Ai7RKudy7gFcsCwTzf4aKLLxud3dea6yid8tphySnISBywymYyI54G9WMLp2K27ho5SgZeh4F6yFJXtx5og5av95/IqMlc1LT7QVTCCDKuX+LYVX2kDtEG1FTLHMCTQPaIcsUYoD2gi0C8DOmoBpnqUlVQqGPcKlrneVXQ1qCRc9gZRU5SNO9Cm78rnoElDAcvNIJUNynsyUZH0JtOSyboQcZUEM1JHERqwelI7Fy4ImUlCkEUgRiS4N+tyEWNSFKIUMQuXeYeInoyhnrBBqbFhjpzBFUYYrl8iRA9d7yicBxUVj1Sp28LoBJgRrdRzJjAT3W90I8iBTolnAMZ8EFz6O6qe9uopa0+XHSHF43O7+ueqhp4kOhUd2Si9powm3V0q3GvQ1zVAKxVF/ORDLwoA/UNRV3deqANWvKyUl6cMqIjrFduVj6ILe9G6hk70lV9pI7cRqYu5HWPmaM9BmgPFJNGrgywOIX27npjO6LZFTdcGRWSM8IXbFVGDlThstAU6LJJYCmgtdwQsK3VeGSBev0FxqVkNAc+VBMvtVNhOHCyCLcQoaPg36363OJtjXRJfZiURQ0RbVmfQ0MyiEHJvBOSKeIfBiJfdXJasQsqlsNF9u8qwxgAHYbqgvSjsAbHgx70ozaIHF1TGkrpBHejMBIf8oU4lJVuMRjuTy/sa0JUownacL4Nlgha4Ean9d9Xu6ehk2A51NnbQgQoJ8nAkRko58WFv1/rLYf3yxUdoQvhxI4NqZrlIAtGrOlCHSEk8L7ClLLCQDjZdbGyy5RP3kWiVN88XpTiGkRmzO8oqEG0FRHGn8m3QkOcC4eBpQ5NSVX+9FndilGD5phYyJOnQXEGvkSn/3cAWsp49CYu7kAThiqDOQw7FCID/6RKE7HkBZ6RNIowrMggIoqKjyBlXzxj44CvAoZYYAzD4ISnVHsW1dnQ03CRzUFFhousQVNdwHwID+RRX0RAyCnCoyfLYLZu8vIcghsust3m7Oy+rtnSC0diKaS4eirFLg8xKH9B0V11ShIueA7TlvxsvSnkIBl4IQaW99rQutpXdpBp49m7e9zMA5pia3q7kfP2caCemsHIbSQAChVTOwd0RsfuAFAuNQbCyV7WS1niz7zH1PoqFkX96EKrjJUXi9P+cVVny4e3B2nAq0LZmZ15CI1Wl4wDS1242jPAGCHWid8GZOq0rF5SMY3GFyehatajRIzoSTgknW0RjOKsqjp2nAskwT86pEbVuCSNqdN8PyInVPeZZ6yZ+JSCBFM+WRrgifECIfpVNXCBsjJmUqp8uMi2qKJRoM6ctc7aNkDZGN1cf7Cd1qFV2rZ7+HdjbV23aZn9fHkagkNXh4vMxgWz8/vaussh1j2DHb1ZwQH1lXdypmtAVKS7dDgoNCIae20lB8nA6zJw4l5rF8eqBh0jjdL+xgu8xddUxf6ldtOu9UhNFozauoYKwtLp1cnyDbIG+obScLIbA6UqRKUu0UpRbuuhKLaLYPvYK6BWym9N/f2nvj+KcQth8Oqzre+EDrZnTQNLfbjB6w43ZekZI09gAyvrKbpBq4hfuTBiwfs591qsT/0zT+BphkQiW2pUNoXYcBUVTpZn3Qt6M2KkohXDjxVUiUFRhqYOeJ7dDCH6JJ0CCVgVzSEiWaSvYDSwIxNSj3+3qwkVHORXgYunyV83KyJM0FJoaJv3qoUMoAzXcW9jHg3bcDHCOHN+SV9rCAQzfQ+KEqYbwQ25L55b1sWGiKJuG6FpUQPKth6B5DwZeAUG6gFEXX2qCV8h78yhY4D2QCfNhcJAspQ74QkZuP7MHl6t6o053K2eMP+rIWVfX01hOkgGnoWBwb12dsA9C+TEcR8G8mTf4TVZ2mEpdf6WgevP7OnFWAR5r/3bcma0ZCAZuIaBeK+VU+yaH1KEH5NU9+Wx+kHMNTmk7U0YyBvbDo3J0g5LqfNnDNiJe6+7Z95r/6yUGSgZSAZuwkC8197EaTo5IgN5Y9upWrK0w1LqJAPHYiD7+lj1SrTJwIKBvNcuyHkvUZ7sO/VOlnZYSp1k4FgMZF8fq16JNhlYMJD32gU57yXKk32n3snSDkupkwwci4Hs62PVK9EmAwsG8l67IOe9RHmy79Q7WdphKXWSgWMxkH19rHol2mRgwUDeaxfkvJcoT/adeidLOyylTjJwLAayr49Vr0SbDCwY8Hvtf/mVDCQDyUAykAwkA8lAMpAMHJYBv9cuLr8pegcG8hOLnSonSzsspU4ycCwGsq+PVa9EmwwsGMh77YKc9xLlyb5T72Rph6XUSQaOxUD29bHqlWiTgQUDea9dkPNeojzZd+qdLO2wlDrJwLEYyL4+Vr0SbTKwYCDvtQty3kuUJ/tOvZOlHZZSJxk4FgPZ18eqV6JNBhYM5L12Qc57ifJk36l3srTDUuokA8diIPv6WPVKtMnAgoG81y7IeS9Rnuw79U6WdlhKnWTgWAxkXx+rXok2GVgwkPfaBTnvJcqTfafeydIOS6mTDByLgezrY9Ur0SYDCwbyXrsg571EebLv1DtZ2mEpdZKBYzGQfX2seiXaZGDBwLPca3++Pj4+v38XSFX0+/25oXXKS8pHDOTJPmIlrr0MS5sd9+/f7/fnVm9Gpm46F7RfPzd1uXL2x+FWUN5Str05b8bOy/T1zRgBR2eUQ08LuVVc8Z4+IxyAzGEy0Bg41r02N3wr3O0HcLK3w6luD3+UuwXXwbSHJ5mo4ilnyu4STkAUFm+4AiYf4ZZT1cLNx4wvAhZ8Gd/AkixZCMc2DGbWT/TkGi6AaYqPzkrQTiqygH6x6Ppw/cbQfT5Yrltn1FkX4z+64fbmvFmioa//CYJ4yvzT1dAKsaK+S6PEzwjXMfw74cabkqnimXkfAnfhydHMa2eoKffZdXrrhe1w5oaZ9gKJox4NuWdTfFOJ8zOlcJuXIIv90zlum6PHa1kO4AQryqyBdz7ck+3vJhsAarLmScKV1YF6xUL4qxqteRoe4AxgwRdY4rCCiV2NKn8y5orMQu5pzaxzfcnAeA8MKefFtsf7fdqLdGW4N1XSXPSfzHNQSkVEX1/dIdZHb1a9SFZa9NL2Pm12/wJL6gfSKX5Hhu6ijRYZNZ27DabBp4K7QdlwrBW+2+e1XcrXh4sbo8+xCyoqw8Xe9m9WrgRzhfkVphdSM+prfTlCc3fl6btdgA/uUqfyKY46UzaTGaHRVHud0enDWudytG29rbhEQF5oMjATOfEiXFYKRHaCsdCnpRDN5iwpgit+ArJu/6jFqQTRrY+HVrzYMPQboheFTD1QudQ2F8/6XgbAMhTmPz4+QlfrfviWnz/K1+f3b8waCBTR5/evrJSvRkEI1U3R5Jt/D8FF4+8Q6sZr5WlaXZBc2GUg7IFqBpV2R7xYNodul3YgFN2yN6i2RXl0Q2GnHsxGc7lIvn70TkAAzgYGW1dtYW4oAkuDdGaW5sGf84xc526jafCp4G5QNhzXEm9oXqLSpXx9uMHGCMi6oCIfLgbDP5teCeYK8ytML2Rn2Nd6puEhQLjGja6r8TZFdgOEZbesw/Xnmzpi1zzzSLN111iNtq23FVfRuAnWLkUayXbfIqU3gorIY9en5PFMqUfeKmhRJzju4cRoaMWLgCGQIJLP75d6Lwe66l00dLXW1r7pEYtYXyBQRb591DTQGGLqFPWqCztAwHkITRK1MhuajOLl2ikGwh6o6kS5ueBF5f7rpz5Mx1/SpN1rmYGoDU4hE/Np11ZrGN1xFMi3Th+yKpK+aNluEu8k9HCBpd53NYVMxFP7stagRfvpjsU1bcTjEKIWhKrvPkWlTtiDB/36GebnCmCNmjKupQ4aMG1Q0R0jKSqRPYzk9bN8+7inAo3RNisdIMb27fEJQ7QZ5cXYOV6biZPOeLjYTBrgUr4Kd8XiiUSaZ98xdTdhio0W29taa+7WEqhalXemaaG5blATcPYecbI5G9h7DCZ9rbw4TsFos0h7Q6WJWJ+XVbRrejAwX4tw5URit+KBXfPMI8zWXSOOxKJ89eVwmdNBlZ0tO3zL2MIiwDbGOLSLqlWgy3y1p9h7SFtu7mUh4mA+z5RaBHcbEFLoqj1ac0ez0dCKFyv4LgdLkbR7LYssagMWTWze2rwNxFDZp0DOeR+yKpK+aFnLiWsStlhxULdu6GqxpVQiBHCuIggMohjM59EfoO1EsAC+Y9h+g3q0HO0wEPZANQHK3QkvWoHsaXqiJfuatKOSKdt2Hx1fRYfcgJmF6fe8xbKnGZkFeRQl2MZqA3OzDSxF16qGtj9f4DVoU3yxZDm6sfD6XPgUl967FEBF9ZRX1/DyQfdkJAJcUCftbKgzOypQcS8XTljy+oR/GCr+KuA+bqsN+yDSFlaYMWVoDM9oXIRDn6yGEhsTW8tFE5YnJ9XtmlP1aryBV4Ty+/1ZOR/S4uacYYeKcWgwttCZuVPzjc0JoG87nPY1IiNGkDTCQokVyVS3Gjoz03CFTyuNB2TXPJtp+fpkhCgUm58VDlVsQ64x/PykYje8WcgLTQJchBlEOhX5CcYCDvVomzIeyFr++XGOCNwtYZSJey8GozV0NR4PrXjRMNjTHImWsELaUcmUrcbP/l4GvDKc32uJ/pg1ULIQhVg+VZsuAC0An/6GgbAwrH4jEA+Xox0GwsleTXqew00Hmx+VvRy4Wg7Cuuv0wVVXq8F6F9Qy8jCyQqHgaoXrboGrqtywFBj9kfjv1O/XFljk2JDK02P3aAcvrqmfqU+xANjgAIZqHefNZSfABRx3fCP9oghAYmksGhKiNyp4E6ILHHPcIKFAQSbTVmJDIM9OMDcMkoFtcVx2EGz0LnAXdIgEYZax2BG1yGH0EeAOY05zmGgbJIrboeq9BiyoECPFuYW83zOcfpgbpAa4VKMrqgAcSMBumMLpcHWXUkupK3bNM481W3cNHEVtmMuQQIAMK4rubIxZ4ljk6AbHJDBH9iRFW4SnyAmsyshKcUCbsvp5UjhcMD2JV2FQ6Ap0tAY5TIZDK150DLg+Xi2bFniAXASBE9FteXTuYD2MrLGOy3B9vKqRW8wCg2vkMWFUMwldjeFU2WMWW1BYiCAOD6NN4c3Qi/P6JRmAsofVRdOC50bKDCVnxkDYA3XZKTe9xTaF/SsFqgUlF1BNcBiGtbpcTHJjBtEdKYHQ12VxCsx3km1GC2TPwBKEMI34YlMVd2xHXEcjnB2oPQQy9Sl5Am2cNkqgVA5cR25TBbiA4z4Dl3YANaVBLqJYluu/SPj5gndAS0U8twmek8tAU6udlM8Ph14VF7hAWRk7WSAbLoK8ck6OYyj0scmAscgFQkcVgym2HWpIQiBRD+adqW+JmEE0ZQLuMlv1tcJTajAlHBOkLpuOClKXCZmMwxUnRrd7YBg8m2n5+nBEaETDvaqoFd8Gbdu4ojnuDGoGMQZa4hhim0t/iiIeCy4pI5GfYAxxFKxosC8NodGwVLfbP2ZB2driyefQihcBgwtksZbLF+MOnEVXj5FScmOWEFuXSAmEvr4EZhtt8rmERfVnNQhd7dGqJiCJMBciDxNGatOaQYSelcQ25tUMAgAuGAbnOb2MgbAHqpMhz7wIBdJTSI4S1MAxn+ALoGLEZxK5qZYa2je9jQZnp/lDLziGHbhAtfd5rcWy48J3OlKFrwsNycI5CtWb+JTQcDB7hp1zF4VInQAXcEwvPHXi0i5cCOJT0ZRk7B/aylwyEF+eCc9gey0DTa08fMBdBVPDZTj0elpRYngVIXC3iH4jMbbHnCogp1MexmzuRSpf5itqa06OjlIUXbMb50LqLaYOOlGMzOr3mIXTLyDSaf3X0UZAUHFQA/CDJdfvSzgK1x0XxUFAMQs0WycUNgk+MXInMpvyDGEsj6qExjgWMVrimAQcLH6AEKXstEk5Ms9itLOkLcJuQYsBZYs+luOhFS8ieJFIf6IGjg//Xg5k1ZtA6GrKWCyQIpvW/g4iYi4E82k0AqsYW1XrkQkyXbYjRh2D0APlaJuBsAeq3ZBVXqRilgn9zS3SJuUFtl6P3BTLXqmcZXW7kLhM1sBoP43BBZYoBICaNAerx4zifIyAfYTeFBdwvQCPMFS/cd6CdQJcwHF4G/E0KDbv/UDyKVeGAlzm5Z+IhUTCtFK8CiSysRXD6HzMDTtV9tRmsUpN0AZDT8PFZqKDgK3SPkkzKJ92j7iDNooECc1DIJEH824OaZ2hCla3HJ7qa0FY/pZgOyR0qc0MjLISV2N+pmxPolIWB+GYb7MMnsPUtFbcNx0fRC8wh6HrtxFLY1Y0F9XFpm0MsssWqQzUI7phOQU0ETuMKiJ1h+dJLULsDVkvfuX10zKr6owHfCyHQyteJPBlsn79ed7z0ORU1TioLvVKRoD+ISQS7wCLlM3hmWTzXlvLUv88k2TS6kMgB6eZRQpP9WF40aH6awyXme00opA8MMAQK6c7DISTvZoQ5eaGF3kHcMXEgrRZ2RwWLdsO9ZXZNkHRIje6JCtBqZ0gslU51gYwBwDAeBhY4hAG3P0QRJ0A4mhcALuxMAczA7LyKbLF28JkFcnAeWQt1E8MwWox1eRYFWaWizxF8/OzfEorc8n668vndc2w29S8LQIt2BAv7asrxMJwEa756/YeSmwcuCvLw0WzcBUoscWqdIgDP5y190B57L796kcodqRFfZu3GginNq54o/lqe6Pr6tnqy9nfa3air+1cAWrbEqStKWODVLiS0iqfjqp6D+BwWk30U8JBfNUYBZoBmKxrCapfHTt8jQkh6IwK7tBNAe+nE/oJIcjLgBrcA4UCPBskUMOnntvMzmdgrHOPuMIbJLRaL3VgndtxQcWAsnUPJ0ZDK15kDDqj9yVpszIERzZLxkT2CL84DkrWLMo8x9oABgUEZKvh7r3WdoTql09TajAGOUpzFl/TLwC+5E/3NfQgkEXgP3Bg04pqFijXdxgIJ3s1AfLdCS+GHVCKAkcHaVPJSvGt7iSyxVlQahRXkpHE07Y6G1gflD3/G/8eQkmj/hcSV2PMqvzFHNBQqGLY1lDdOyLAQCX2KQ6br9iMblb/JPUk34BKpqaJ4/5MDlKPF97Pw3QsRC0gplGWpnnV47YWwP3oTphbIYpBynPDnbxIpyADYBI6kFXQNBw1mUa8gxUVwKYCjxYqG5SHMa1lakj03eDURY8jGNA5jhvWaE5vEd9U6xSat7sOwumniSITErykE1ZbjsMiV8yiFMpP2eyHwwrguQGBbOvos0YNKA2NehsC8zhhR9nlzqKQdZenu4kbBvdCCBG8NOyB+cYgBulPmiANTlRKa7pSs9qQGg/laWz0hrP9Mz4HWm6zQeCoqPFiwKBTPDlIu0gpGcrFJLbouMiNLMsCxjHVtn42sD6o+Zw9K9zQ1TPtXH9hBnIP7BQ3WdphKXWSgWMx8J593d1JjlW0RJsMjBnIe+2Ylzdcfc+T/dxCJ0vnMpb6ycDzM/CWfS3XWvqs8vnrlAiTgQ0G7navHXyubR9lL38is4E5Ve7CwFue7GczmSydTVkaJANPz8Ab9rW8ovNW+3Q7U39c3+5KNMhq7VbrbvfaXQCp9ywMvOHJfgH1ydIFpKVJMvDkDGRfP3mBEl4ysM9A3mv3uXpxzTzZdwqcLO2wlDrJwLEYyL4+Vr0SbTKwYCDvtQty3kuUJ/tOvZOlHZZSJxk4FgPZ18eqV6JNBhYM5L12Qc57ifJk36l3srTDUuokA8diIPv6WPVKtMnAgoG81y7IeS9Rnuw79U6WdlhKnWTgWAxkXx+rXok2GVgw4Pfa//IrGUgGkoFkIBlIBpKBZCAZOCwDfq9dXH5T9A4M5CcWO1VOlnZYSp1k4FgMZF8fq16JNhlYMJD32gU57yXKk32n3snSDkupkwwci4Hs62PVK9EmAwsG8l67IOe9RHmy79Q7WdphKXWSgWMxkH19rHol2mRgwUDeaxfkvJcoT/adeidLOyylTjJwLAayr49Vr0SbDCwYyHvtgpz3EuXJvlPvZGmHpdRJBo7FQPb1seqVaJOBBQN5r12Q816iPNl36p0s7bCUOsnAsRjIvj5WvRJtMrBgIO+1C3LeS5Qn+069k6UdllInGTgWA9nXx6pXok0GFgycd6/9/f78/P5duCuiTbWTflLhLxnIk32H7Vdg6ff7s/T9RjP/fH18fP3sMPOiOkrW6zCwk86OzvNX+7wsXqGvn78miTAZ+BMGzrrXyjtu81W4ofYn+WWQbQbwZJ9Uun9V6Ep386mrdXN9jHcNK7UN08f4928I54rQ25z0isiSSjGNlkRv9zwrI4Ln6N7+Xqubz++1k3KPaRrtW3TQN8ZEysvaV77XUOir//6N18dIeQOgDnoZfTdU5c5QcRVSD9MWDiO1Re73DgDmSEnW88bkY98ehUaxr8X4ozvYBmlEeE5ElFR4vdd/5YTrBRxunE+vY/ljfqyFkhwnA6/HQO212NXjRDebY1NtHCNXH8UA7QGpYfc5nR7Ufm7X4/jrq/tILyiWAx4N1T36F5VyHgdbZWO0o2TtktBX0ksslbdqe4/gzylGkKehz1KeetkULIN1QlnAym0GeSE1YED35rTcPU2RTZkTnb7t290GvLh01BSF4hmk2Xq4po/rBCnrFm8p9+qq2p8AfDWdfGdqB0j34wDiLeSuU9+SQYoAMQtcH465r+G6DPXo0ihYkB2JSRUuwSihQfziqDNls3E+vQ7isVisZav5TAZek4HJvVbaoH1pZ3vned+SVummqKZzOBqov8gelF6T6mfPik92rQ3XJNayHPNfP/2rstNkbzwLvHS29e0XTmvxcUHoEOz8ac9SAFZdCr6xZBDzLOWB/VlLy2CdUBZ4G5wV7AWUgYGOnZYeKLW1eA0SnTmXS+moKUqcGaTZet+sgNeGYmxFl9DzjVw10WCIawanNxRz0u5yFynBaxPD7xAsC5YMZtzX5V779S2/sIPJ98BQqm4VbkREdoPoJcd1uEnl2DXPPNJs3TVylAy8DgOjey0dJDqpzUvNQZN6DpRvvFFCvujEIglGeR1yj5VJONmlinQ8U8E0NVHRFwdWXCSdKiqcqHVnS7vGKL0stFlf8WSWBAaRpJ51tX1b6C9GWrc3Li3Wt2jkQHTaC1SFxbv56PIBHQLIwZrLYs/CGlAWv37c38ImiAxU8VCdi84qu1U4tZsEKXch43yqZHvTFPU5ZbHRYv40iaF6wW0p21NWzXaNfi3tKLMANe0BpCnUn68Gyb2EEeoIMsshqJXoGhwzVa2wEKbNkaz36ElbqUGdtbS5lnvgFLhr1RH3dSM81AVDd7jMpyiFpNDO1PBpvhbhgGy05O8BwswVTwFwzRwlA8dnoB7w1NXSA3iOtCyhOawRmwwWQK2dD6bnsmkUU83n3zJAe6BeJmEfQIErLqigl1VlQVek/orR2XB/jWx1LbinIz7IlqEr8GsegSUNh9mZ7wBLIftbdoDShf33BeAMhtJcIx5FBQqnU/COHgxte3ZCtW7uSMxJ6AzCkEsCxHalmGa4CFfOElNs7mXAHqdIgqLGGhFIvmmirmfl7l0hXetoa2lIcAvSFCpZn56InyHp9YioWWOq4jTMw7SFlfU1bzF3sQBAmmbvoQXYHYz6Wt1qPAuAaeCYoigkpmyqWw09i2k4OvQgHrvmmavN1l0jR8nA6zAwutdqk9GbqOY7bA7TFk+l/VHNG7b4cJnZ2ZHxOpweNJNwsodLgJSLzmqurNdVsrfa1t3Fby5W7ciKtuYDgl8cugt2/kLHEmYLGHeybFs/KnOCdEmIql0G0bb7DmXpoRPKQsPZIQEJyRCVeEAX8aJCV6B5OHQZxsFoiqQIHLPYQcmC19nUNyjYdhDUGgPguHe9lnYNFWAPIVEfAtQ++HLFfddObK54p4UM1tMWUdS8ILZMxhEAq0dpYMY8nnyGvsbcBE0FCcBUo3GB/gcSsEPNNj4djr+LaIZxr88CzdbBUQ6TgZdhoJ5VoavxXd16OrSQdEr9kpMGOhN7CJaVM5RNorwMtwdLpNsDWFOpIx3iy8KiUMf47tKNwy8nZAptbX2wa8ABSdG8C23+rnj2LFVnJVhLlEAVlaphXWPvyv7DLSReTdGZeaFqQEKiC+R09nSNBLsyxEjNFNy53HB4OjIaoOoAqeXQZ7x4rrEa+G0kdEqVWB1V5vTUswa1NLokG3nGiGjMo62l3YYYoguQms5svSksB2JtOZCiurX8u00sCYFZmDZHsg4+6jppY5ySChqgtHm9YBD6mtzqRJNBYDimgGRbJFPdakgm43Bdb1RTds0zhzVbd40cJQOvw0B9K4Wuhvy0yerZA80hQzy38OQFNVxWpyibRIHlHP4hA4M90I5bGcBbKnxH4leb+sZpdgU+F12F5IySDLYqIweq4CFttBOaAl02GbDUHAlMe0sTZPvozLPmLIfK8PaO8non82gNQtdwKhH75q535tb9RZJMS9ySBWcALuIweAiXy3AhCspLrBZoG0m3bRsn5uqsp4AzWodACZhOfAOESGvpuKrBhUwREopn66gzGQuyEWxFbM3nT6M0EBKmLdZwXV2bo5h7sGDd5vfsQejr4Fann9+/GDyoeERUqquDJde306FlXFIO4bD3wDagmAWarYOnHCYDL8NAPZBCV1N63jnQHDBUZVWqhzzK3NjVRqdkPL0IQU7+goHRHqjlw4p6Hf0c1jVRqjsgVD28bnGv9IlFW9HA+DP5Vug+3LkrI5bMB0JDyP2LK2z3oFwSBno7uUbEcAZheLVhc565oY46oSyMkXSqwZVNg4dazrFPrfREZP765y4SZX14+vQ+N1aQfxw3U8alKshl05PBhhR4IVOYDGGY9w17cGVDcTngbBRJ8rUEOXfqYPMsz5GboBxVMMrEAUbYHIe+jkEVU/m7go0MBdJmFkct42pgw3TbcyfcDleBuuZ/uu4aOUoGXoeBU2X4yQAAIABJREFU0b2WmxD6FAS6amdYPZTtTAO18JoViX3MS1rFQzwNXofmI2QSTvYCudS5Fa3moXXsXpO+2h3TsInERfWKHto/Xu5s+V7rQZBTX+3MQ2i0umRMLDXQnpTlFHE4QvtYzdrF+DDL5qu2g1pC1zQ9EQxaRiO31gwdyGT2BETY+kJsEYszixmZJTbctcAED5buKLviH5QpxRjPQ0QJIFH2DHG5nfiHi84fq7lnGoFb28OONXpQTJx4WaI1cLmSqsxjOSqwJ0izdbfUEfEbZHUqoRt/TUWz7QDBavAcps1P3Z4QoNAArrvcdcEsOim4PmdIfT28LmtyfBKWpYh1QpchHqEaZDEIV7Yv+FGzuJ8G4blvRwByLRl4JQZG91o7IO3890YqfVRfU9Z49aoq06pJanaJEbXyB4PMn6mVOLb6SuweKpdwshv27uyuryI4zUlV1rWypKArVGKuvm2dkS2eyoqGPJfgbX0ntOG95BlYoiwoP79DVbio+vUjgCGPwrJ/3AVd8/n9K6bmvGmCcpcIKjXLqiUyc9YZ1uKWZhWpaAecYIw5zZwGDxrS7QbZzcKpEQQn8O5xcPVoRqIF7t2jEtbUyDNOZlGKDkmJNvcRdELImTSs1yNXvZII3M3WHUrtNbBBmY3FT6eidAGRpuzrMgIzFZSDvj/uCWrHm0oplq5U58EWmTFQW89RX1PQ9u1oWA2ZQc4QN7ABkjLsc5yFC/kGMH7oGNcVT0BJtenQ5EIycHAG6vYPXX3wpBL+JQzkHthhLVnaYek5dfrbQ7/ynMjvhOrUdetOYZ/Rbfb1M1YlMSUDFzGQ99qLaHtFozzZd6qaLO2w9Jw65bMu+IhLP8WC+XPCvhsqSf99s2das6+Zj5wlAwdmIO+1By7ebaHnyb7DZ7K0w9LT6oQf445/avy06G8KTKjIW61Rmn1tTOQzGTg8A3mvPXwJb5VAnuw7TCZLOyylTjJwLAayr49Vr0SbDCwYyHvtgpz3EuXJvlPvZGmHpdRJBo7FQPb1seqVaJOBBQN5r12Q816iPNl36p0s7bCUOsnAsRjIvj5WvRJtMrBgwO+1/+VXMpAMJAPJQDKQDCQDyUAycFgG/F67uPym6B0YyE8sdqqcLO2wlDrJwLEYyL4+Vr0SbTKwYCDvtQty3kuUJ/tOvZOlHZZSJxk4FgPZ18eqV6JNBhYM5L12Qc57ifJk36l3srTDUuokA8diIPv6WPVKtMnAgoG81y7IeS9Rnuw79U6WdlhKnWTgWAxkXx+rXok2GVgwkPfaBTnvJcqTfafeydIOS6mTDByLgezrY9Ur0SYDCwbyXrsg571EebLv1DtZ2mEpdZKBYzGQfX2seiXaZGDBQN5rF+S8lyhP9p16J0s7LKVOMnAsBrKvj1WvRJsMLBjIe+2CnPcS5cm+U+9kaYel1EkGjsVA9vWx6pVok4EFA3mvXZDzXqI82XfqnSztsJQ6ycCxGMi+Pla9Em0ysGDgee+1P18fH5/fvwvsbym6Hy15su9sqEexJHX/+tlBeEud3+/PckI8ZSferxduyeHdfD1P+vdAcpnPy6z+/fv3qL6+2+5Ix8nA+zKQ99qD1f7ig/tknvFkD5Fk+tHdrZpSuwHVHeUPvY0NxOGqFDX8EhclH/4NTycKTk8mfbbCiKUFLWf7nxkI0U7JTOu268ruXwc9I4W2+c6weSHV50n/Hkgu83mZ1eBeK45O9bXo9O3BEHjmu2+2XjXqwRa8nzjuJj47Kz8/HU+OkoEXYqBeP+Lb+gkynDTpEyB7KIT70RL3AEfyw5HOWlYqzIzW1JwskUWx4FeE6NsddWEbRDodvGow1pXjwFKJGNH/G1FwXWDxOOXvOtdT69tnMQ11keDZ8V2U1L7R86R/DySX+bzMqr/XbvW1BOt7kiHwzIs7Wy8a6vmrcx+OO9Fqp+S/f7NTJ1g5hhwlAy/KwPheq231HX4G6a1OzSTEgMguI8YXiLAFtQe/YghtVIX0+f2Nv4fggnD/sTDxqRn8uBnCUlkMPcN5WXaaXuWWzj5HFBNZAHCjQEvM+qp5uLGFU1LhlYJFLnEuCARuXCvmw5+jqyjqYyanbPHVolThAjq6xTiwdAYt10WXxO6Z1wjdqJAjvUetPTu+O/PyPOnfA8llPi+zmtxrTx13EqzvSYbAM98Rs3XVqI7rw43iSRiOzonPaOX+cpQMvCYD83st302og2hSLrX1XhJaSBqtXXHYSkVNJuTqSj0mVNdMySl7mRaluLdTh40moe1qxco407EfZCiaswBaZA/r9RuDMYApLdPcLxSEG1u4nhp2gj2+wwpiy8WwmLnN/TmXmM5CoxONYpufmzwDSwZAn540wjAVC48yGX/9qEb9dk5+oVxWYaqGRdNFtrWr12YCDVc9fdm3dw7PoPA3bfSdFjrsy1kw9p7RisN5jsEbCviaUFKuLs2bRyjRbR2/t/YWhUR/vmRTQjTXGgZCh8SM+gQ/vNcdH+cJBh54uIgbgKtJkpA+ZCpD8BzAj5Ot5mrm+OgMOEFgK8QyOqUQkMHG/+izmxG7tgq0zKfn97X1QPQpQJ0MnrnubF00RKZFiEqxPGEe1Wu0oOUYcpQMvCgD9QUauloaBF+c2hneq/XYLOdf0IXeGltVN8GsHMRwosKRKqoo2SnFyv1Q1mVXFoKuTKvmOLt2HI0Ai/VofeFKRWgDCHZ4OEMn7AEogDhxIETJCM5ozc0Doi73IKfQnSy4VWhYyc7g6oXAkgOY0uIqJTjSo0ZtU9SZ7RFU1Gp4UxJrHIBE7L9LXsW+u3QK9BGAYNx7XsAgTLKVLMgSQB8C1dVn60aRmNPf70/PqcFmb4SIRWqBkewuZv5LL+CsjucMDOENF6HRBEiPs6bG6bcsT4MfJOvWnEG5YVmibNgBM7WyU70AaobCNg6pquI4O4bVhbaGUYHvA09rY3R+X8P9k/xLHp4jz1xxto7XWubfdkOg1qfhxG6xmL22nINk4GUZmN9rvTW79sIOWzRN37qgHIQqwZB66JUFlfk7fasW4h46nlIIoQfHQcPZBn3Q6AWufjPAs/W5K7WY0NJDum4lnOyBFmRC8FZ2e+hEdUNkqdf95ic/+q0Umo7lPbUN+g1Ui3qHQWAJ4U9oQRUBhJThOIjCNGiCF5GstjoLgZIIrEZ0/RgTbDW+a1bTCQwJZMVEHycASPguBPoBfDDECDCOGjCXIQVaA5ulI24mDEAwhzRd3HQytIdjiCMZNLGysWvUUUwcQ+BY1GEOw+ih21QYE5XBh6rAXIbXcYJBx+Pz+7owQLgicGaJAkN6tD647PuWV77seNSny+axOisy4ug5SwZegYHaJKGrQ9N1jVGtpKfxaAqEBC94G6ZTUcx6N7LiDUgQ+rMkRB4cOQKmHo4RV5wDmh6WRSJAcNQYNpLboiVq+mWdVE1U0PbxZcVpMTS3eIY9gO8tw215KCxF0XPXlVax9YlUyO6KckC/U1solCHk9x+5vM0ksETYPJcVfJThuH8xoVTGRr9k0gLrAHZNGdYtEq2Ig5EQQ4YdQLYq6/CMYTSo7GHQpExBxNf5QbBGw7Q3Ft6iqEtOgLdgHYyaliFgEioeExK8waItDZyoCClviJjXLhsEPya9OYgxMET0C7qgFrWIOpl0GZaUwFtB4z47CyVHmVxYtZz2Buf39YxKBy6ReeZYZusxI9KLwsJM21Ok66GilUtylAy8JgP1/AxdHRskzoGLRdP0VrIyvlyqm9ag4l9WaKEEVUVzAjjCUCLhOwDPl4grzsthpOZnZRcg1OkMMKz3AMyVKhELskILpnr1M+wBZMxeR86oARtBH62pvpsDWNHmUokQfcxt/XZXHKIVhLjlMLAUsI1oCSqUWgC8mIoI+Wte22CUZbRCnaEhGQQ4aKxZDPGQlk6GgfotVQwBAAzHfnp8siJfiKwCWnhbiKpx3ZHq9qx03F5GQ3i0OHM+oksM+6Ng6AEyhCGDk1k0xhDREHRdDRbdu1uq2DGDNgyL4QmfRWlh5eG3Ruf3NR9SLUiA5Gk0DR1M1tW6vpThUfdz8G0FM0JXPgcdwYBylgy8DgO1d0JXxwbRfrLu0eRdQ0bwHoHW66xwwR0UMsGuLESFxnmn2SQwiNZoNJRhdoBTdDezowsLQOleFiZrmCBelTWITceMmsQWbvYMeyCkMwTy8SV/iwapEzQjiJ25w+6zDz5O2cKRHcrlQW42Cix12AoCokWWAkajLFC1mAYRkBwlmKrIIDSK6i2LpeyLZ70x2S6UZyJZD/BQVcbLEKjs6LqSFFFUhvkwEIcGvnHoUcOeJQFNhvB8EWCR2cD/RFWW5+AVPbFKYQIVGALHYgPzMJxG9zRLUJyDDxXCHIYElkFEq6i6nl/Q1+ODPYAN0wZivI6EmKpoVkZ7sa5MThNz0FuZJJ/JwGsysHevre9A6x890trhtWgtbUmzUr1m1fc1Keuk3phYlcJNi4L2I/QGqjig0IyTwjESskJOWM09zNZHAImodnXUkG02zf4iQTjZ8b1lHwzw+7CAufpe2340Cd6ds3FoS1D1wK68ari4pnubZ2CpA1Brif+QHZOpnBlC3hGBcppWw5qrzixv9C9Jln+4rumKnqn1+ashyMnr4NKAHnrPCxgs8n83tgbQh0CAOrbN9/PlaYjA+AXEVX9EoIiYpTWwZToQuhViCG+4WJth5KTuLExgmGjpAUhIM2/59ckCSdQ/lTHDUqcY35yKyNSW1KkPtGpXtmV2THi3wy3XABjzOjm+oK9rh7TM7agyOBoTqUEQw3Wip2n7qvJg9IncRTazMjTr/kN4EOUwGXhJBnbvta1nqwE2V7uYiCz2VTnmihXK5n1ddPVvB5oBOulDjAqj7r++6v8FlF9bw9AYwsJWxyAKkvoK6TkBE+Jktr6mV0+vAS2jxC9fCyc73aomh2MBxnuhHLZLovrdYEd0ZZI4Y5LZVvmk+LoSo19OSmcZWOoBtFQAlpe9/qkpAxi24mIa/8qSeSgAPQBTJw4BR5dNfTMa7ew07AA2HnqewQjbm8KIo/bVSSJ4jzBg0txEI0VeAJO9ZTTMpdwZzCUBW6Tj/vtCmK8GD1Nvi8E5H6juPqRvqdgTXbOLcbJmh2d5CFEMCYFZiQgZmkenZi5/zMszJ98yAZ8uY2IXgA3d1vOivhbPBKzvNqJCdkDNabSua05Hw93WQyxxh+ojnz1CANEi5CAZeCkG6lkbuvr4KUqLw6l4/ITun8HL7YG7UJYs3YXW+zuVEwEvAfeP+GIRXpvA7OsX266ZzjszkPfad64+5Z4nO9ExmSRLE2Keffm1r2V/wP5rE5h9/QdbKEMkA3/DwGHvtYMfydRc9INaOYTz89qz9lCe7Dt0JUs7LD2hzmtfy/6A8NcmMPv6D7ZQhkgG/oaBw95r/4aed4qSJ/tOtZOlHZZSJxk4FgPZ18eqV6JNBhYM5L12Qc57ifJk36l3srTDUuokA8diIPv6WPVKtMnAgoG81y7IeS9Rnuw79U6WdlhKnWTgWAxkXx+rXok2GVgwkPfaBTnvJcqTfafeydIOS6mTDByLgezrY9Ur0SYDCwbyXrsg571EebLv1DtZ2mEpdZKBYzGQfX2seiXaZGDBgN9r/8uvZCAZSAaSgWQgGUgGkoFk4LAM+L12cflN0TswkJ9Y7FQ5WdphKXWSgWMxkH19rHol2mRgwUDeaxfkvJcoT/adeidLOyylTjJwLAayr49Vr0SbDCwYyHvtgpz3EuXJvlPvZGmHpdRJBo7FQPb1seqVaJOBBQN5r12Q816iPNl36p0s7bCUOsnAsRjIvj5WvRJtMrBgIO+1C3LeS5Qn+069k6UdllInGTgWA9nXx6pXok0GFgzkvXZBznuJ8mTfqXeytMPSOTq/358fH5/fv81GF+RgwsUmvd9gNy4B/vn6c5z3Y+B2ng9HS/b17YqfnpKBBzOQ99oHF+B5wsPJ3t7wdXv44+vn379/A3G5gsjbLNxGdOnrW+4uwy91+DwknEQCLInulIqTjlKhMkDXxMroA3aFwtiKS4APd4H7m313OFpCX//Tc+vjI2wITktmQeHfP7X078jYwsmfrWNTdN6708bjiN3EZ2cVz2hHlaNk4CUYqHeN2NUvkVsmcRYD4z0wOisXVwBRh7N+oDlyeBbOxyoHlgYJPhbf4aM/an9cGPdCs8OX6UQCh6Nl1Nf6cqSLK6clMxIrKb0O3z4Lc6wV2VTPX537cNqIFn6MMPEZrGKsnCcDL8fA9F6rzVCl2Jface3jN5H0K+FzrLX5lNLajtq87YTxGXqlj81I4Pp037Jvx0uCdDaRBfkCo8/vn+9PPFJmdE2zez5BONkrQKGDWVh/pFaIKIzqOBqPHD4fGVNEgaW6SafqKTiXgUftjwvjXmh2LitH0z8cLcO+1vccHmCclszo3aFV6nXQgxWStWy1Pqvjzn88bcIBO/EZrUKwnCYDL8fA+F5L/UKTerfDTpVu4ruPrpjKKfMppWrYDo4Sxa5Y5HQ6UYEdPKA1W48/ySE9BVCdqcBzBtf10mfJT5N7QkE42StCSTtmQ7x0mRgb9gwKI4dB5ZmngaUFFZLo149um0phvyKZqovah227KwVjfWOnSN26VKnG64rW1kOvuj28ooeLpTuGQEMOomNtN4trWdCPT1G5y6BYkIoFqU6+fhy47VnVB73Y443olphv91Us9F/HGhxCiTmq8WaQwBjANIEYG3pWyGyVohB9jNbPQyjozsHs2RQrRGOpPO1z0tfKmCeCJS3lg3rX3Hodt/f0WcvXZSQy9RuVYv3CPKpXr0GLY+UsGXhBBuppTl0depk/n5PeaS8tJSSujM1rb0flBaXBD1t6rwY1RCsm/bkD50aI7k6rwBd8VEQQFYYgG8UN4Z5sSnugYRMO47kcyWjKdaBy2VnRUOQjh9HBE88DSwsqdMPSBuxXys3G94pqNNYG+sAMS+vM9rtMmx8GqbMqQ7Xf788CZLgoSJvDco812ORecVQJCYqNu/BMMN56f8wxFCIb2+CSQTByx9DHPRHLEplHop2utDR4Epdx6cx8Iqz1DmGz3+/P6mKyzjE55x5hv8L2FESVse6w/yifJ51M+xoTo5IW+qwJPC0x8ErybKbl63it5QJ1eyZujYCu+eSqteUcJAMvy8DoXtu3InRGL4wrcU5HeC+cUgtBRYctXcjrotlkOojXcFMYrDsUs7TPR3TuhxXBWQBwhwcYhZO9Iu6zqwTXnaMPYkYMxYre4p7/yKFLn34UWMKNEqhQDui1162oNanQu6rTJ3YCkfOpSCiIq/oIXA8XQS5DRM7+3ZrXqWfIm1vIMs9IMUwQg5pBkuCF1GhC/sCC1suE7FAVxqQTMhE1KoIsAN5Z3tGn9VYxFWnXe7U6s3WMCuBp45Wcz8GMnsQ6zgeUPtfSqK9rfYAHTktmVENNqdcZlYK1gAuuOKupDA9erj4rN5+d1QhP085BMnB8BmqTYFd3bVB1Sgf3vRNX4pxegr1wyiE3eDgpm3CNNtzB4BAiu7Yu8CBdjtK0BLKI9HwgR2YcXmLTHJ9JgHvAcY0K1mhxNRo5i0RZ0Rk5JOvnngSWFlRIopx/t9It8I1gJHZ2RApvqOl0vEGrpQnBkfcMLfpy2+Q1O+JAYJS0zXVT10HwKekwcp55umXUOTWGxczGwSfgg2H03MddxrI8wCw6B5HmCPDK9wXMzPDnGyEtBd38xoCW0mydvhsR5eapjhFhkeJKx4cXtIuIng3WUz9Xfa3ZacE5LZkhQSXBXsf2ChLAWi6JTJJeFOrcDwHSnbt0SY6SgddkoB6t1NWT9igE9MK4EuflgKwHQC+c8hqamC1dyOtTb/Ym6c6hcjYoPHHlpwR+KqVKdDx5WB/Ngx9BQnugAR5l5+Q3NRgoi0JzG4CQ36UkOMYksLSgQtLn3RZXhsagBMMBOSKFLTmdDqOwP7GVL4LLi+rFw6FTHdeDBJygCocLM0bOM1JdYIgXR/ZisxUk06kRT8UyKsAsegdRhNfdMClPn0SXKhG/WqmhFI8td1RG0WCFcHKvpS3S/EfHdGNuWs88WPe15vf5/YuETY6yQAVbOAOTdbX2XrJRZT34tlIP9qIHqt+PjuuGajlOBl6Ggdo41NXWxJ4kNCEMqzyudOa4EJU9RjcKTcyWLkTvxQdrul+38TUZtfVoqILxKwSiwrD6jX443LPOaA80kKNcGmFNywco65kJnxG52WFGgSVMN+QgzPHbpFuRhYEOvqfYA4YIlZlPgwR9wHiYSVtsg2oBcxkaYvA3ee2TRpkwPp6hOsTUZZqLGXAVvJRp+Bsm6DuiJd94RogROo/jCQZRAxH7YCA0Ezs2xOgYHM1m6/F6jXoyJoRReYkZPUWKENnTjk/1tST48SV/esv3etwkmlxgIkxb/uP1kccSWf5uuL+pmhs1MERjnwOrZp6DZOAlGRjda8sB5v0LjTU62/puUgNrNu28dmL2ylNaQ4+zJQopnJ7GNdzARFHN1hlqmbXDXqPUg7+KLMUpgGluzygIJ3uFyFyVRSSfM1GJ0WIHMczDpYCNDzELLM2p6K8Fg5Wykfw6gZus9JrLIj2hMotprEr7J1E/X60xFZx1RwvqTgmZTrgz7JMleVrBp3E5FQ8i6zwjzQWGyG30oqYAjfzqJFicimU5ohnmWwOiWmNV46GyLLSiMDRV8yppnj5lJyf/3Vi54lRMJxGKwjZm9Va1g2dO6Elnp/u6ZtV2dy2ab3c774g0sbJNgKkP1zUEU147ovjUcqOcDYY+R7dhBJLjZOD1GBjfa1uHVjG0Ut87/Uowx7YeKo9pDU3MlkGoU3u1Alpah/Nltl5eG9XR8OdORfb5/c3nFTkEAOPUnnI1nOwVI9NeFilZI+S3HqBYbTuUcW3k8Cn5GIMKLM2oqJnzTpDUeUViyGr7QqZU0usbrkDkeko4IQgGb6GGi+VOVIGWP+RUDcR3sw27YBbXkjACHFLIAxWr7xGGyFXnpQDxMOy3loHECJ3y1VimyoHc5vP7VyaoBhyV6K69vHEvdsjipEXnhoLUTyKU1M7A7AGD547qZ1wY9XVMXgjpKPG0dV+ObeqWlUetRfHF67oWHdgJIeshllij+sgnlbyFgw3xjMVITMnAdQzUnR66+jqfb2EtZwieKcdPOvfATg2TpcCSvmupE/qVYPKIqYLK1/kjqD9EzOzrQ5QpQSYDOwzkvXaHpfqhmr+9Z99Z7zl7Tq082XfqkiwFlspnSN4a5dNFmAf9x0yf8q79GCoy6oiB7OsRK7mWDBySgYfea8srsf1whAZP99EKg306eNfvvjzZdzhMlnqWuDXsJ6293uNWXvH70Mex+YqRs69fsaqZ05sy4Pfa//IrGUgGkoFkIBlIBpKBZCAZOCwDfq9904t9pm0M5CcWxsTqmSyt2ElZMnBMBrKvj1m3RJ0MDBjIe+2AlPdcypN9p+7J0g5LqZMMHIuB7Otj1SvRJgMLBvJeuyDnvUR5su/UO1naYSl1koFjMZB9fax6JdpkYMFA3msX5LyXKE/2nXonSzsspU4ycCwGsq+PVa9EmwwsGMh77YKc9xLlyb5T72Rph6XUSQaOxUD29bHqlWiTgQUDea9dkPNeojzZd+qdLO2wlDrJwLEYyL4+Vr0SbTKwYCDvtQty3kuUJ/tOvZOlHZZSJxk4FgPZ18eqV6JNBhYM5L12Qc57ifJk36l3srTDUuokA8diIPv6WPVKtMnAgoG81y7IeS9Rnuw79U6WdlhKnWTgWAxkXx+rXok2GVgwkPfaBTnvJcqTfafeydIOS6mTDByLgezrY9Ur0SYDCwbyXrsg571EebLv1DtZ2mEpdZKBYzGQfX2seiXaZGDBQN5rF+S8lyhP9p16J0s7LKVOMnAsBrKvj1WvRJsMLBjYutf+fH18fH7/LtycL/r9/mwu7+H/fER/Z/Gc+ebJvrMDnoal3+/P23flCQY0phwZrXXnBrLJv37m8heTPKIct6bwOc+lW2c59vc0fT2Gl6vJQDKwz8Cj7rXvfIT+e87k48keUMr0o7uqNKV25ak7yh96uRmIw90oavidKErgXtWJgtP9RtjVDCx1AHaufLuxlnoa+e7pIgSN6GVB0WAsO2NbeWD/71/PrZI7WK6brYRrW3Lo9F6Lf1+O22fyGOZun8clHkNf6xm9OO40xHiLM4s8c2Sz9apRN3looG7rc/9PfHZWW9+XOtQcJQNHY6C+EWJXcxqTfmGl82Z3cHkegEdqP2fycQ8wSj8c6axlpULqaE3NyRILIBZ8CxJ9O7QXtkGk0ytvU4hrMA4sBQD1LmbIB/YXL41YvdjZRYZLBJ1QFqYF34ofue2NuqCiMlzsbXOlY+CdmRv1tb4caQ8zQzIjsTLa64yOA9aKpVDPX5370BGi1U7J+c4PVjFWzpOBl2Ngeq/VnlHp5/e3/x5C7BFsT23Gb/nxqHzVZnY/bU19FKVyLqCTf/w5DRwJYvb5/esOQbaqixuEuxN9IBScAcYgmVmdgOcoiM/yGjYyBqfkKrPbysLJHu4HSsiXVhcJCaVTRKO1Yj78sbSK0GdM65QtvlqUZlyIzq6dB5YG2E7mcxmEEauXebrUaomgE8rCdYUYcBugd0FFPlwMhjkdMfDOzA37+sRxN97izCLPnPXZumpUx/XhRrEjwlEz8Rmt3F+OkoHXZKDeqEJXS4PYS0m7ol1TY49gK6mV3WeVLpTW+2p91ZEEJ+rEbjnUtxWIvStV0SbT4hDe3t0wULm5VhE5qLfQodUKHmKtesUHedeJ+Z5mdDdB2APhfmBIA0gsnSEbrZm56fhzLjGdhUYnGsU2Pzd5BpY6ABIEyh3liE/GXz+q3Pqr2Nr3Oba9q44tlz2CriSqhjIV617NuQRy+WKPuZJ4svjhuy/qccu3Ra7SE0ExpQmeyF1fv0hBy3bi0TwUbBWC6MatoH+BAAAJEElEQVRQ6LgoOzET3xeYYMmc6kAoh3MYvmU0KxRg4Urpvn5czg4rCVpsTGGKzTh8seekr5U2Z4wY0l6luiknvY7bO2ms5esyEpn6jUqKBiKGeVSvXoMWx8pZMvCCDNS3EXV11wfQL1EGInydK1NRF98eaKeGpffVBI8BWIChuicXs9KIEhwETS06i9jACOKMrcbQ3UytEISLZvAazj8c0B6op6uXwpMQzI0eT8WRjtbc3PV01FEa5HZhQ/5cJbhVaI7Z9W43CiwFACUO5BTlyI2idSoL5Y4+mKKlhqEF9eUc6bS50lkLRHZEzNJJed02n2TY7Za64BuFgnJmwBY7ZTWWlRl5NYXhogndzrENthj6kLEro4ScomDPBC1+vz9r9ThrIocmcmJZNTTeBdVHO3XeLstjbJTwa02mfY0cwZtKsheRs258IHXzpmEts9UnuA1avDe6F27QNqfBypbzmQy8LAODey2fnpK5rNQjNPYIthKOmTC1qqHKQUC6PvGROfCAPiqyXtds4GmR4/HTGzf3bQBu6nBhhRdj1W666s/eQCqSlbKgMn9p9hH/cCWc7OEMR1YktXqgtywB6GjNEq2boL0/A22kZpzRojgwQfyM0kABlpsPA0tIi8dyBqLcJeWVN3gvNjdsi5aqAgus2aTmXDShAcCwxRrc7exu2iwndsVHJ5wHDZLpu1+zahuG6l5xd0FlfbiIiQ6YjwSijwAXRegV1/dM0KJ5CqaYjoD0rd8sQgvpunixkgePEBWGzaoGiCKP9qKjRV8LF5VMpkVmrTsaL73OqGis1Yz5p5pYfVHpOoL3w8RnZzXCAwhymAwcnYH62sCujmf8FfdaabT6Jf0PnqkFfeIjI9ZtfFRkva7ZhKcaIo7RAVHkAWVwNHhlOigfBXhRQHzGw6o/JiOGu81xD0gQ5pey0ImejqwUMgeoZA7rZU/0By36ndrSjqqH/r0JDCwNsTk9uOU1a8xLxhGumtpelWdTQMvoauQJ9IMYJFiJoBVjxA2Bpt1uqQsNPBp3KWq6/RbouAsRR0FFZZIeWnepxjKij6CMoujTktg0MSbMLB4GbR+oQsTYgodoug4og9glnUMX+QkJ2FrAVxys+lqJUiKQobLTYItXWnqdEYes5YzGopBeFOrc77akO3fpkhwlA6/JQD06sau9iy1lWam9GTsLWwnHYipzs1NXYEy6PvGRxVYneniAtQp7XbOZPdVDuSosjGMc8NZbbcBTf3S0yQotlBAAD2L+2RD3gATlZAMrlhQrFayjtWAOSTmDsEjB57bx6jOKjF5vMA4sDbFBSlGOCGVMr0VV9o3BtmipefgCK9YkwTsMReiGyMcpJzM7COfQaxTIzoMOAyESG59WdKdmM00PFEomgI2/PxJNdCxjUEYROsX1TZNiLsrypTEWOc9Ew3VAAENOrTMUTaqh8tCwYbYvN173tVJV/9GyM9TzZd+Z+H4Z6oQdBmRqoLIf8L/VX1excgAaokms3goC5jAZeEEGavNQV3d9AP0SZDqdtRWYKXOqXF8RJPMJ+RMjWNChHxj07tmtTPMBfqutg5ARvMmaDaEpVuAG1FTm/qJkjrzT3M3rFnq0B7qTt4NWWJK/RWP1NxCeua30FweXYIl9FX10oV0tigqo4Z9dcKOrRoGlCIC3bGVxsmkFLIjiJT3MkRHNABYGaYNU9xsEQhFwccIJX/bArgw7p7IwDtqpds7KwoDboDn0NFxkw4DtrDLN3ON68I8iBmIzT3WhOxPJOlIdelfEe4UYB3BshvYVn6f6upDMx92QmUBimDbqxusjjyWynmm9WFfsAB77DOdIQ5CDZOBlGRjda8sbrF1XtK94ZsdkL7IWE8K059qRWmZ2xFIL4kRdmhfyoBOLHM7uaX3QNd9LKVD5YMKcayTDwB7IahseWemk8snOKe40pXsJwskebt+R/VoA2T/GlAHjpMrqwNzUbaO0nWJbx/wubDuRLpihR7jdKLAUAegcGUFApfJNKlPbcgpQ5bZSlW3av51EwTItYZsub+fNe23o13oKuM+wIQKlkYhVUORE3Px8tUTQa+cShTpGCppwuNikzQ4SCxuuMm/cyhSUZ+5xfcvk58vdgvGCHBb5vxvTdXem1Pt0AUZEpqhj21ETbMziS81O9PXkuFPSbKPYNjJG21YDhcaZWHbrWI+mCeXsOoINhj6Xnyl4kBwlAy/EwPheC10sB5/8GT/vwXKKqmH58zEmGrSV9l2NwT/GMS/yxgiGJgp3ptjUwWpWFPQWjhISwaurHVCK3NKzAGgFshPwgAniE70FeBbwj57hZA9ViekpqJIUM9eVUzU5zRGvQNCo8GrS/mO896h0xcR3YC6w1OcV2ajXxZqT6Bs6yThoo7vyJ8BAoTFU1mRqriTRJg70FUnwg4bI0tzJuK5g20wd3jwoJkpZgEPSKaUPsCMFatxw2G4JRpUqwKZmHu3z+1cmZib+QHkYs/q8wMRAQgTYMd13jY6Si39p9d3fIOsRNqjPSw1HfY01kWTLzgqrzqDSFaRcF9Goe2S0S3UtOrC4sh5iiTtUH/nkd5lV1DbqS5Uwk0kGjIG60UNXmzSfb8RA7oGdYidLOyylTjJwLAayr49Vr0SbDCwYyHvtgpz3EuXJvlPvZGmHpdRJBo7FQPb1seqVaJOBBQPHv9cOfjZjP22xn/ks8k9RYyBP9kbFYpAsLchJUTJwUAayrw9auISdDPQMHP9e2+eUKxcxkCf7Dm3J0g5LqZMMHIuB7Otj1SvRJgMLBvJeuyDnvUR5su/UO1naYSl1koFjMZB9fax6JdpkYMFA3msX5LyXKE/2nXonSzsspU4ycCwGsq+PVa9EmwwsGMh77YKc9xLlyb5T72Rph6XUSQaOxUD29bHqlWiTgQUDea9dkPNeojzZd+qdLO2wlDrJwLEYyL4+Vr0SbTKwYCDvtQty3kuUJ/tOvZOlHZZSJxk4FgPZ18eqV6JNBhYM5L12Qc57ifJk36l3srTDUuokA8diIPv6WPVKtMnAggG/19ZRPpKBZCAZSAaSgWQgGUgGkoHjMvDff/8dF3wiTwaSgWQgGUgGkoFkIBlIBgoD/wNTZdloEndoyAAAAABJRU5ErkJggg==)"
      ],
      "metadata": {
        "id": "GgU7spbTdvHt"
      }
    },
    {
      "cell_type": "markdown",
      "source": [
        "With respect to the above example in Q5, the pipeline details that needs to be logged in can be provided within try and catch block accordingly.\n",
        "\n",
        "\n",
        "*   job_name (e.g., \"Daily Admissions and Imaging ETL\")\n",
        "*   status (\"SUCCESS\" or \"FAILURE\")\n",
        "*   records_processed (you can pass counts from your Python script or get it from logs)\n",
        "*   error_message (if any error caught in the pipeline)\n",
        "\n",
        "*   duration_seconds (time taken, can be computed in bash or Python)"
      ],
      "metadata": {
        "id": "YsHYvhTid-ji"
      }
    },
    {
      "cell_type": "code",
      "source": [
        "import time\n",
        "\n",
        "start_time = time.time()\n",
        "\n",
        "try:\n",
        "    # ETL processing code here (Q1-Q4 steps) to get the los and q4_df\n",
        "    # Write to the Postgres db post connection\n",
        "    # los.write.jdbc(...)\n",
        "    # q4_df.write.jdbc(...)\n",
        "    records_processed = los.count() + q4_df.count()  # or any logic to count records processed\n",
        "    status = \"SUCCESS\"\n",
        "    error_message = None\n",
        "\n",
        "except Exception as e:\n",
        "    status = \"FAILURE\"\n",
        "    error_message = str(e) + \"\\n\" + traceback.format_exc()\n",
        "    records_processed = None\n",
        "\n",
        "finally:\n",
        "    duration = int(time.time() - start_time)\n",
        "    log_etl_run_to_postgres(\n",
        "        job_name=\"Daily Admissions and Imaging ETL\",\n",
        "        status=status,\n",
        "        records_processed=records_processed,\n",
        "        error_message=error_message,\n",
        "        duration_seconds=duration\n",
        "    )\n"
      ],
      "metadata": {
        "id": "FEqj1a52e9wI"
      },
      "execution_count": null,
      "outputs": []
    },
    {
      "cell_type": "code",
      "source": [
        "#log_etl_run_to_postgres function which can be reused across to write logs into the respective ETL Log table.\n",
        "\n",
        "def log_etl_run_to_postgres(job_name, status, records_processed=None, error_message=None, duration_seconds=None):\n",
        "    # Create SparkSession (in Databricks it usually exists as 'spark')\n",
        "    spark = SparkSession.builder.getOrCreate()\n",
        "\n",
        "    # Prepare the data as a list of tuples\n",
        "    log_data = [(job_name, datetime.now(), status, records_processed, error_message, duration_seconds)]\n",
        "\n",
        "    # Create a DataFrame for the log entry\n",
        "    log_df = spark.createDataFrame(log_data, schema=\"\"\"\n",
        "        job_name STRING,\n",
        "        run_date TIMESTAMP,\n",
        "        status STRING,\n",
        "        records_processed INT,\n",
        "        error_message STRING,\n",
        "        duration_seconds INT\n",
        "    \"\"\")\n",
        "\n",
        "    # Postgres JDBC connection details\n",
        "    jdbc_url = \"jdbc:postgresql://<host>:<port>/<database>\"\n",
        "    connection_properties = {\n",
        "        \"user\": \"<username>\",\n",
        "        \"password\": \"<password>\",\n",
        "        \"driver\": \"org.postgresql.Driver\"\n",
        "    }\n",
        "\n",
        "    # Append the log entry to etl_log table\n",
        "    log_df.write.jdbc(url=jdbc_url, table=\"etl_log\", mode=\"append\", properties=connection_properties)\n",
        "\n",
        "# finally the Log entry is made into the etl_log table."
      ],
      "metadata": {
        "id": "E3SOLBvmfZc-"
      },
      "execution_count": null,
      "outputs": []
    },
    {
      "cell_type": "markdown",
      "source": [
        "# Q7. Consider a table “lab” which stores laboratory results that contains over 500,000,000 rows. Using the following details about the lab table and its relevant columns, how would you optimize query speed on lab? Please explain your answer."
      ],
      "metadata": {
        "id": "fqh5owtCgb5x"
      }
    },
    {
      "cell_type": "markdown",
      "source": [
        "\n",
        "\n",
        "1.   Split the data by hospital (hospital_id)\n",
        "When saving the table, divide it into parts based on hospital. So, when you ask for data from one hospital, Databricks only looks at that part, not the whole table.\n",
        "2.   Sort data smartly by patient ID (genc_id) and test name (lab_test_name)\n",
        "Use something called Z-Ordering. It organizes the data so when you filter by patient or test name, it finds the data faster.\n",
        "3.   Keep the table tidy and optimized\n",
        "Run commands regularly that clean up old files and organize the data. This helps Databricks know where to find the data quickly.\n",
        "4.   Cache data you use a lot\n",
        "If you often look at data from some hospitals, you can keep that data in memory for quick access.\n",
        "5.   Only ask for columns you really need\n",
        "Don’t select every column if you don’t need it. This reduces the amount of data Databricks has to read and speeds up queries."
      ],
      "metadata": {
        "id": "tI3IczLngcaI"
      }
    },
    {
      "cell_type": "markdown",
      "source": [
        "# Q8. Using the entity relationship diagram (.png file provided in test folder), how would you calculate the missing rate of lab_test_name_mapped_omop of the lab table for patients discharged after 2021-04-01 grouping by hospital_id in SQL."
      ],
      "metadata": {
        "id": "Wa6t-6F3g21S"
      }
    },
    {
      "cell_type": "markdown",
      "source": [
        "Steps for SQL Query\n",
        "*   Join lab and ip_administrative on genc_id.\n",
        "*   Filter ip_administrative on patients discharged after 2021-04-01.\n",
        "*   Count total lab records per hospital.\n",
        "*   Count records where lab_test_name_mapped_omop is NULL or empty (missing).\n",
        "*   Calculate missing rate = missing count / total count.\n",
        "*   Group by hospital_id."
      ],
      "metadata": {
        "id": "Wl-UJVwKiQpp"
      }
    },
    {
      "cell_type": "markdown",
      "source": [
        "\n",
        "\n",
        "```\n",
        "SELECT\n",
        "    ip.hospital_id,\n",
        "    COUNT(*) AS total_lab_records,\n",
        "    SUM(CASE WHEN lab.lab_test_name_mapped_omop IS NULL OR lab.lab_test_name_mapped_omop = '' THEN 1 ELSE 0 END) AS missing_lab_test_name_mapped_omop,\n",
        "    ROUND(\n",
        "        SUM(CASE WHEN lab.lab_test_name_mapped_omop IS NULL OR lab.lab_test_name_mapped_omop = '' THEN 1 ELSE 0 END) * 1.0 / COUNT(*),\n",
        "        4\n",
        "    ) AS missing_rate\n",
        "FROM lab\n",
        "JOIN ip_administrative ip ON lab.genc_id = ip.genc_id\n",
        "WHERE ip.discharge_date_time > '2021-04-01'\n",
        "GROUP BY ip.hospital_id\n",
        "ORDER BY ip.hospital_id;\n",
        "\n",
        "```\n",
        "\n"
      ],
      "metadata": {
        "id": "Y8YyQxuMkI8i"
      }
    },
    {
      "cell_type": "markdown",
      "source": [
        "# Use of AI Assistance\n",
        "\n",
        "I used ChatGPT to assist with coding snippets, syntax clarifications, and optimization suggestions in some parts of this assessment.\n",
        "All solutions and explanations were reviewed, adapted, and validated by me to ensure correctness and relevance to the problem statements."
      ],
      "metadata": {
        "id": "j3rbAm_mlu_Q"
      }
    }
  ]
}